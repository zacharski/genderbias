{
 "cells": [
  {
   "cell_type": "markdown",
   "metadata": {},
   "source": [
    "# Replicating \"Semantics derived automatically from language corpora contain human-like biases\" using FastText"
   ]
  },
  {
   "cell_type": "code",
   "execution_count": 11,
   "metadata": {},
   "outputs": [
    {
     "name": "stdout",
     "output_type": "stream",
     "text": [
      "3.8.1\n"
     ]
    }
   ],
   "source": [
    "import gensim\n",
    "from gensim.matutils import softcossim \n",
    "from gensim import corpora\n",
    "import gensim.downloader as api\n",
    "import numpy as np\n",
    "from sklearn.metrics.pairwise import cosine_similarity\n",
    "from gensim.utils import simple_preprocess\n",
    "print(gensim.__version__)"
   ]
  },
  {
   "cell_type": "markdown",
   "metadata": {},
   "source": [
    "## now download and save FastText model\n",
    "\n",
    "#### [Gensim FastText Documentation](https://radimrehurek.com/gensim/models/fasttext.html)\n",
    "\n",
    "If it is not downloaded already"
   ]
  },
  {
   "cell_type": "code",
   "execution_count": 2,
   "metadata": {},
   "outputs": [],
   "source": [
    "#fasttext_model300 = api.load('fasttext-wiki-news-subwords-300')\n",
    "# save the download for faster start of notebook\n",
    "#import pickle \n",
    "#pickle.dump(fasttest_model300, open(\"fasttext.p\", 'wb'))"
   ]
  },
  {
   "cell_type": "markdown",
   "metadata": {},
   "source": [
    "### if already saved, load the model"
   ]
  },
  {
   "cell_type": "code",
   "execution_count": 3,
   "metadata": {},
   "outputs": [],
   "source": [
    "import pickle\n",
    "fasttext_model300 = pickle.load(open(\"fasttext.p\", 'rb'))"
   ]
  },
  {
   "cell_type": "markdown",
   "metadata": {},
   "source": [
    "### simple data from the paper"
   ]
  },
  {
   "cell_type": "code",
   "execution_count": 30,
   "metadata": {},
   "outputs": [],
   "source": [
    "professions1 = ['programmer', 'engineer', 'scientist']\n",
    "professions2 = ['nurse', 'teacher', 'librarian']\n",
    "male = ['man', 'he', 'him']\n",
    "female = ['woman', 'she', 'her']"
   ]
  },
  {
   "cell_type": "markdown",
   "metadata": {},
   "source": [
    "### Convert to vectors using FastText"
   ]
  },
  {
   "cell_type": "code",
   "execution_count": 31,
   "metadata": {},
   "outputs": [
    {
     "name": "stdout",
     "output_type": "stream",
     "text": [
      "3 3\n"
     ]
    }
   ],
   "source": [
    "target1 = [fasttext_model300[w] for w in professions1]\n",
    "target2 = [fasttext_model300[w] for w in professions2]\n",
    "attribute1 = [fasttext_model300[w] for w in male]\n",
    "attribute2 = [fasttext_model300[w] for w in female]\n",
    "print(len(target1), len(target2))\n"
   ]
  },
  {
   "cell_type": "markdown",
   "metadata": {},
   "source": [
    "### The cosine similarity functions"
   ]
  },
  {
   "cell_type": "code",
   "execution_count": 32,
   "metadata": {},
   "outputs": [
    {
     "name": "stdout",
     "output_type": "stream",
     "text": [
      "males: 0.369721   female 0.337323\n",
      "males: 0.411371   female 0.353518\n",
      "males: 0.431256   female 0.400701\n",
      "males: 0.402191   female 0.503043\n",
      "males: 0.421725   female 0.458633\n",
      "males: 0.335385   female 0.407880\n"
     ]
    },
    {
     "data": {
      "text/plain": [
       "0.3310612738132477"
      ]
     },
     "execution_count": 32,
     "metadata": {},
     "output_type": "execute_result"
    }
   ],
   "source": [
    "def mean_sim(word, attributes):\n",
    "    cos = [cosine_similarity([word], [a]) for a in attributes]\n",
    "    cos2 = [x[0][0] for x in cos]\n",
    "    return (np.mean(cos2), np.std(cos2))\n",
    "\n",
    "def testWord(w, A, B):\n",
    "    print(\"males: %f   female %f\" % (mean_sim(w, A)[0] , mean_sim(w, B)[0]))\n",
    "    return mean_sim(w, A)[0] - mean_sim(w, B)[0]\n",
    "\n",
    "def doTest(X, Y, A, B):\n",
    "    return sum([testWord(x, A, B) for x in X]) - sum([testWord(y, A, B) for y in Y])\n",
    "    \n",
    "#[ x[0][0] for x in mean_sim(target1[0], attribute1) ]   \n",
    "#testWord(target1[0], attribute1, attribute2)\n",
    "doTest(target1, target2, attribute1, attribute2)"
   ]
  },
  {
   "cell_type": "code",
   "execution_count": null,
   "metadata": {},
   "outputs": [],
   "source": []
  }
 ],
 "metadata": {
  "kernelspec": {
   "display_name": "Python 3",
   "language": "python",
   "name": "python3"
  },
  "language_info": {
   "codemirror_mode": {
    "name": "ipython",
    "version": 3
   },
   "file_extension": ".py",
   "mimetype": "text/x-python",
   "name": "python",
   "nbconvert_exporter": "python",
   "pygments_lexer": "ipython3",
   "version": "3.6.9"
  }
 },
 "nbformat": 4,
 "nbformat_minor": 4
}
