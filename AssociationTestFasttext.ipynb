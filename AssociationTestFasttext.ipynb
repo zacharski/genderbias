{
 "cells": [
  {
   "cell_type": "markdown",
   "metadata": {},
   "source": [
    "# Replicating \"Semantics derived automatically from language corpora contain human-like biases\" using FastText"
   ]
  },
  {
   "cell_type": "code",
   "execution_count": 2,
   "metadata": {},
   "outputs": [
    {
     "name": "stdout",
     "output_type": "stream",
     "text": [
      "3.8.1\n"
     ]
    }
   ],
   "source": [
    "import gensim\n",
    "from gensim.matutils import softcossim \n",
    "from gensim import corpora\n",
    "import gensim.downloader as api\n",
    "import numpy as np\n",
    "from sklearn.metrics.pairwise import cosine_similarity\n",
    "from gensim.utils import simple_preprocess\n",
    "print(gensim.__version__)"
   ]
  },
  {
   "cell_type": "markdown",
   "metadata": {},
   "source": [
    "## now download and save FastText model\n",
    "\n",
    "#### [Gensim FastText Documentation](https://radimrehurek.com/gensim/models/fasttext.html)\n",
    "\n",
    "If it is not downloaded already"
   ]
  },
  {
   "cell_type": "code",
   "execution_count": 2,
   "metadata": {},
   "outputs": [],
   "source": [
    "#fasttext_model300 = api.load('fasttext-wiki-news-subwords-300')\n",
    "# save the download for faster start of notebook\n",
    "#import pickle \n",
    "#pickle.dump(fasttest_model300, open(\"fasttext.p\", 'wb'))"
   ]
  },
  {
   "cell_type": "markdown",
   "metadata": {},
   "source": [
    "### if already saved, load the model"
   ]
  },
  {
   "cell_type": "code",
   "execution_count": 2,
   "metadata": {},
   "outputs": [],
   "source": [
    "import pickle\n",
    "fasttext_model300 = pickle.load(open(\"fasttext.p\", 'rb'))"
   ]
  },
  {
   "cell_type": "markdown",
   "metadata": {},
   "source": [
    "### simple data from the paper"
   ]
  },
  {
   "cell_type": "code",
   "execution_count": 10,
   "metadata": {},
   "outputs": [],
   "source": [
    "professions1 = ['programmer', 'engineer', 'scientist', \"developer\", \"mechanic\"]\n",
    "professions2 = ['nurse', 'teacher', 'librarian', \"clerk\", ]\n",
    "#MAN\tHE\tMEN\tHIM\tBOY\tHIS\t\n",
    "male = ['man', \"men\", \"his\", 'he', 'him']\n",
    "female = ['woman', \"women\", 'she', 'her', \"hers\"]"
   ]
  },
  {
   "cell_type": "markdown",
   "metadata": {},
   "source": [
    "### Convert to vectors using FastText"
   ]
  },
  {
   "cell_type": "code",
   "execution_count": 11,
   "metadata": {},
   "outputs": [
    {
     "name": "stdout",
     "output_type": "stream",
     "text": [
      "5 4\n"
     ]
    }
   ],
   "source": [
    "target1 = [fasttext_model300[w] for w in professions1]\n",
    "target2 = [fasttext_model300[w] for w in professions2]\n",
    "attribute1 = [fasttext_model300[w] for w in male]\n",
    "attribute2 = [fasttext_model300[w] for w in female]\n",
    "print(len(target1), len(target2))\n"
   ]
  },
  {
   "cell_type": "markdown",
   "metadata": {},
   "source": [
    "### The cosine similarity functions"
   ]
  },
  {
   "cell_type": "code",
   "execution_count": 12,
   "metadata": {},
   "outputs": [
    {
     "name": "stdout",
     "output_type": "stream",
     "text": [
      "males: 0.340603   female 0.304574\n",
      "males: 0.393596   female 0.318532\n",
      "males: 0.398114   female 0.361288\n",
      "males: 0.319693   female 0.273858\n",
      "males: 0.360429   female 0.290455\n",
      "males: 0.381031   female 0.456017\n",
      "males: 0.394438   female 0.413332\n",
      "males: 0.312277   female 0.363889\n",
      "males: 0.373210   female 0.344335\n"
     ]
    },
    {
     "data": {
      "text/plain": [
       "0.38034719228744507"
      ]
     },
     "execution_count": 12,
     "metadata": {},
     "output_type": "execute_result"
    }
   ],
   "source": [
    "def mean_sim(word, attributes):\n",
    "    cos = [cosine_similarity([word], [a]) for a in attributes]\n",
    "    cos2 = [x[0][0] for x in cos]\n",
    "    return (np.mean(cos2), np.std(cos2))\n",
    "\n",
    "def testWord(w, A, B):\n",
    "    print(\"males: %f   female %f\" % (mean_sim(w, A)[0] , mean_sim(w, B)[0]))\n",
    "    return mean_sim(w, A)[0] - mean_sim(w, B)[0]\n",
    "\n",
    "def doTest(X, Y, A, B):\n",
    "    return sum([testWord(x, A, B) for x in X]) - sum([testWord(y, A, B) for y in Y])\n",
    "    \n",
    "#[ x[0][0] for x in mean_sim(target1[0], attribute1) ]   \n",
    "#testWord(target1[0], attribute1, attribute2)\n",
    "doTest(target1, target2, attribute1, attribute2)"
   ]
  },
  {
   "cell_type": "markdown",
   "metadata": {},
   "source": [
    "## WEAT 1` Insects and Flowers\n"
   ]
  },
  {
   "cell_type": "code",
   "execution_count": 5,
   "metadata": {},
   "outputs": [],
   "source": [
    "flowers = ['aster', 'clover', 'hyacinth', 'marigold', 'poppy', 'azalea', 'crocus', 'iris', 'orchid', \n",
    "           'rose', 'bluebell', 'daffodil', 'lilac', 'pansy', 'tulip', 'buttercup', 'daisy', 'lily', \n",
    "           'peony', 'violet', 'carnation', 'geranium','magnolia', 'petunia', 'zinnia']  \n",
    "\n",
    "insects = ['ant', 'caterpillar', 'flea', 'locust', 'spider', 'bedbug', 'centipede', 'fly', 'maggot', \n",
    "           'tarantula', 'bee', 'cockroach', 'gnat', 'mosquito', 'termite', 'beetle', 'cricket', \n",
    "           'hornet', 'moth', 'wasp', 'blackfly','dragonfly', 'horsefly', 'roach', 'weevil']\n",
    "\n",
    "pleasant = ['caress', 'freedom', 'health', 'love', 'peace', 'cheer', 'friend','heaven', 'loyal',\n",
    "            'pleasure', 'diamond', 'gentle', 'honest', 'lucky', 'rainbow', 'diploma', 'gift', \n",
    "            'honor', 'miracle', 'sunrise', 'family', 'happy', 'laughter', 'paradise', 'vacation']\n",
    "\n",
    "unpleasant = ['abuse', 'crash', 'filth', 'murder', 'sickness', 'accident', 'death', \n",
    "              'grief', 'poison', 'stink',  'assault', 'disaster', 'hatred', 'pollute', 'tragedy', \n",
    "              'divorce', 'jail', 'poverty', 'ugly', 'cancer', 'kill', 'rotten', 'vomit', 'agony', 'prison']"
   ]
  },
  {
   "cell_type": "code",
   "execution_count": 6,
   "metadata": {},
   "outputs": [
    {
     "ename": "NameError",
     "evalue": "name 'fasttext_model300' is not defined",
     "output_type": "error",
     "traceback": [
      "\u001b[0;31m---------------------------------------------------------------------------\u001b[0m",
      "\u001b[0;31mNameError\u001b[0m                                 Traceback (most recent call last)",
      "\u001b[0;32m<ipython-input-6-50abd2e2b56b>\u001b[0m in \u001b[0;36m<module>\u001b[0;34m\u001b[0m\n\u001b[0;32m----> 1\u001b[0;31m \u001b[0mtarget1\u001b[0m \u001b[0;34m=\u001b[0m \u001b[0;34m[\u001b[0m\u001b[0mfasttext_model300\u001b[0m\u001b[0;34m[\u001b[0m\u001b[0mw\u001b[0m\u001b[0;34m]\u001b[0m \u001b[0;32mfor\u001b[0m \u001b[0mw\u001b[0m \u001b[0;32min\u001b[0m \u001b[0mflowers\u001b[0m\u001b[0;34m]\u001b[0m\u001b[0;34m\u001b[0m\u001b[0;34m\u001b[0m\u001b[0m\n\u001b[0m\u001b[1;32m      2\u001b[0m \u001b[0mtarget2\u001b[0m \u001b[0;34m=\u001b[0m \u001b[0;34m[\u001b[0m\u001b[0mfasttext_model300\u001b[0m\u001b[0;34m[\u001b[0m\u001b[0mw\u001b[0m\u001b[0;34m]\u001b[0m \u001b[0;32mfor\u001b[0m \u001b[0mw\u001b[0m \u001b[0;32min\u001b[0m \u001b[0minsects\u001b[0m\u001b[0;34m]\u001b[0m\u001b[0;34m\u001b[0m\u001b[0;34m\u001b[0m\u001b[0m\n\u001b[1;32m      3\u001b[0m \u001b[0mattribute1\u001b[0m \u001b[0;34m=\u001b[0m \u001b[0;34m[\u001b[0m\u001b[0mfasttext_model300\u001b[0m\u001b[0;34m[\u001b[0m\u001b[0mw\u001b[0m\u001b[0;34m]\u001b[0m \u001b[0;32mfor\u001b[0m \u001b[0mw\u001b[0m \u001b[0;32min\u001b[0m \u001b[0mpleasant\u001b[0m\u001b[0;34m]\u001b[0m\u001b[0;34m\u001b[0m\u001b[0;34m\u001b[0m\u001b[0m\n\u001b[1;32m      4\u001b[0m \u001b[0mattribute2\u001b[0m \u001b[0;34m=\u001b[0m \u001b[0;34m[\u001b[0m\u001b[0mfasttext_model300\u001b[0m\u001b[0;34m[\u001b[0m\u001b[0mw\u001b[0m\u001b[0;34m]\u001b[0m \u001b[0;32mfor\u001b[0m \u001b[0mw\u001b[0m \u001b[0;32min\u001b[0m \u001b[0munpleasant\u001b[0m\u001b[0;34m]\u001b[0m\u001b[0;34m\u001b[0m\u001b[0;34m\u001b[0m\u001b[0m\n\u001b[1;32m      5\u001b[0m \u001b[0mprint\u001b[0m\u001b[0;34m(\u001b[0m\u001b[0mlen\u001b[0m\u001b[0;34m(\u001b[0m\u001b[0mtarget1\u001b[0m\u001b[0;34m)\u001b[0m\u001b[0;34m,\u001b[0m \u001b[0mlen\u001b[0m\u001b[0;34m(\u001b[0m\u001b[0mtarget2\u001b[0m\u001b[0;34m)\u001b[0m\u001b[0;34m)\u001b[0m\u001b[0;34m\u001b[0m\u001b[0;34m\u001b[0m\u001b[0m\n",
      "\u001b[0;32m<ipython-input-6-50abd2e2b56b>\u001b[0m in \u001b[0;36m<listcomp>\u001b[0;34m(.0)\u001b[0m\n\u001b[0;32m----> 1\u001b[0;31m \u001b[0mtarget1\u001b[0m \u001b[0;34m=\u001b[0m \u001b[0;34m[\u001b[0m\u001b[0mfasttext_model300\u001b[0m\u001b[0;34m[\u001b[0m\u001b[0mw\u001b[0m\u001b[0;34m]\u001b[0m \u001b[0;32mfor\u001b[0m \u001b[0mw\u001b[0m \u001b[0;32min\u001b[0m \u001b[0mflowers\u001b[0m\u001b[0;34m]\u001b[0m\u001b[0;34m\u001b[0m\u001b[0;34m\u001b[0m\u001b[0m\n\u001b[0m\u001b[1;32m      2\u001b[0m \u001b[0mtarget2\u001b[0m \u001b[0;34m=\u001b[0m \u001b[0;34m[\u001b[0m\u001b[0mfasttext_model300\u001b[0m\u001b[0;34m[\u001b[0m\u001b[0mw\u001b[0m\u001b[0;34m]\u001b[0m \u001b[0;32mfor\u001b[0m \u001b[0mw\u001b[0m \u001b[0;32min\u001b[0m \u001b[0minsects\u001b[0m\u001b[0;34m]\u001b[0m\u001b[0;34m\u001b[0m\u001b[0;34m\u001b[0m\u001b[0m\n\u001b[1;32m      3\u001b[0m \u001b[0mattribute1\u001b[0m \u001b[0;34m=\u001b[0m \u001b[0;34m[\u001b[0m\u001b[0mfasttext_model300\u001b[0m\u001b[0;34m[\u001b[0m\u001b[0mw\u001b[0m\u001b[0;34m]\u001b[0m \u001b[0;32mfor\u001b[0m \u001b[0mw\u001b[0m \u001b[0;32min\u001b[0m \u001b[0mpleasant\u001b[0m\u001b[0;34m]\u001b[0m\u001b[0;34m\u001b[0m\u001b[0;34m\u001b[0m\u001b[0m\n\u001b[1;32m      4\u001b[0m \u001b[0mattribute2\u001b[0m \u001b[0;34m=\u001b[0m \u001b[0;34m[\u001b[0m\u001b[0mfasttext_model300\u001b[0m\u001b[0;34m[\u001b[0m\u001b[0mw\u001b[0m\u001b[0;34m]\u001b[0m \u001b[0;32mfor\u001b[0m \u001b[0mw\u001b[0m \u001b[0;32min\u001b[0m \u001b[0munpleasant\u001b[0m\u001b[0;34m]\u001b[0m\u001b[0;34m\u001b[0m\u001b[0;34m\u001b[0m\u001b[0m\n\u001b[1;32m      5\u001b[0m \u001b[0mprint\u001b[0m\u001b[0;34m(\u001b[0m\u001b[0mlen\u001b[0m\u001b[0;34m(\u001b[0m\u001b[0mtarget1\u001b[0m\u001b[0;34m)\u001b[0m\u001b[0;34m,\u001b[0m \u001b[0mlen\u001b[0m\u001b[0;34m(\u001b[0m\u001b[0mtarget2\u001b[0m\u001b[0;34m)\u001b[0m\u001b[0;34m)\u001b[0m\u001b[0;34m\u001b[0m\u001b[0;34m\u001b[0m\u001b[0m\n",
      "\u001b[0;31mNameError\u001b[0m: name 'fasttext_model300' is not defined"
     ]
    }
   ],
   "source": [
    "target1 = [fasttext_model300[w] for w in flowers]\n",
    "target2 = [fasttext_model300[w] for w in insects]\n",
    "attribute1 = [fasttext_model300[w] for w in pleasant]\n",
    "attribute2 = [fasttext_model300[w] for w in unpleasant]\n",
    "print(len(target1), len(target2))\n"
   ]
  },
  {
   "cell_type": "code",
   "execution_count": 24,
   "metadata": {},
   "outputs": [
    {
     "name": "stdout",
     "output_type": "stream",
     "text": [
      " 1: pleasant: 0.297766   unpleasant 0.219253\n",
      " 2: pleasant: 0.298825   unpleasant 0.244533\n",
      " 3: pleasant: 0.220747   unpleasant 0.226933\n",
      " 4: pleasant: 0.353318   unpleasant 0.296250\n",
      " 5: pleasant: 0.297596   unpleasant 0.270547\n",
      " 6: pleasant: 0.219184   unpleasant 0.175120\n",
      " 7: pleasant: 0.308799   unpleasant 0.287239\n",
      " 8: pleasant: 0.211705   unpleasant 0.155525\n",
      " 9: pleasant: 0.259995   unpleasant 0.207505\n",
      "10: pleasant: 0.305980   unpleasant 0.283470\n",
      "11: pleasant: 0.354190   unpleasant 0.312078\n",
      "12: pleasant: 0.258207   unpleasant 0.198473\n",
      "13: pleasant: 0.241442   unpleasant 0.177725\n",
      "14: pleasant: 0.262583   unpleasant 0.248509\n",
      "15: pleasant: 0.248088   unpleasant 0.203731\n",
      "16: pleasant: 0.324090   unpleasant 0.274310\n",
      "17: pleasant: 0.267700   unpleasant 0.220734\n",
      "18: pleasant: 0.274480   unpleasant 0.213418\n",
      "19: pleasant: 0.285058   unpleasant 0.191563\n",
      "20: pleasant: 0.291071   unpleasant 0.256006\n",
      "21: pleasant: 0.338045   unpleasant 0.282700\n",
      "22: pleasant: 0.269045   unpleasant 0.255081\n",
      "23: pleasant: 0.300021   unpleasant 0.259175\n",
      "24: pleasant: 0.298956   unpleasant 0.222231\n",
      "25: pleasant: 0.237630   unpleasant 0.199539\n",
      "26: pleasant: 0.308218   unpleasant 0.299276\n",
      "27: pleasant: 0.250172   unpleasant 0.235073\n",
      "28: pleasant: 0.264259   unpleasant 0.278996\n",
      "29: pleasant: 0.279414   unpleasant 0.280985\n",
      "30: pleasant: 0.281033   unpleasant 0.279567\n",
      "31: pleasant: 0.243122   unpleasant 0.312726\n",
      "32: pleasant: 0.264508   unpleasant 0.298444\n",
      "33: pleasant: 0.326574   unpleasant 0.333732\n",
      "34: pleasant: 0.280637   unpleasant 0.322669\n",
      "35: pleasant: 0.267292   unpleasant 0.258714\n",
      "36: pleasant: 0.285914   unpleasant 0.264753\n",
      "37: pleasant: 0.280458   unpleasant 0.303884\n",
      "38: pleasant: 0.163435   unpleasant 0.167550\n",
      "39: pleasant: 0.264191   unpleasant 0.269514\n",
      "40: pleasant: 0.247464   unpleasant 0.265324\n",
      "41: pleasant: 0.259109   unpleasant 0.279468\n",
      "42: pleasant: 0.313423   unpleasant 0.294248\n",
      "43: pleasant: 0.243385   unpleasant 0.258873\n",
      "44: pleasant: 0.220679   unpleasant 0.221859\n",
      "45: pleasant: 0.238236   unpleasant 0.251848\n",
      "46: pleasant: 0.297678   unpleasant 0.342400\n",
      "47: pleasant: 0.251411   unpleasant 0.195837\n",
      "48: pleasant: 0.321275   unpleasant 0.317822\n",
      "49: pleasant: 0.278937   unpleasant 0.294475\n",
      "50: pleasant: 0.233923   unpleasant 0.266738\n"
     ]
    },
    {
     "data": {
      "text/plain": [
       "1.372903361916542"
      ]
     },
     "execution_count": 24,
     "metadata": {},
     "output_type": "execute_result"
    }
   ],
   "source": [
    "i = 1\n",
    "def mean_sim(word, attributes):\n",
    "    cos = [cosine_similarity([word], [a]) for a in attributes]\n",
    "    cos2 = [x[0][0] for x in cos]\n",
    "    return (np.mean(cos2), np.std(cos2))\n",
    "\n",
    "def testWord(w, A, B):\n",
    "    global i\n",
    "    print(\"%2i: pleasant: %f   unpleasant %f\" % (i, mean_sim(w, A)[0] , mean_sim(w, B)[0]))\n",
    "    i += 1\n",
    "    return mean_sim(w, A)[0] - mean_sim(w, B)[0]\n",
    "\n",
    "def doTest(X, Y, A, B):\n",
    "    return sum([testWord(x, A, B) for x in X]) - sum([testWord(y, A, B) for y in Y])\n",
    "    \n",
    "#[ x[0][0] for x in mean_sim(target1[0], attribute1) ]   \n",
    "#testWord(target1[0], attribute1, attribute2)\n",
    "doTest(target1, target2, attribute1, attribute2)"
   ]
  },
  {
   "cell_type": "code",
   "execution_count": 25,
   "metadata": {},
   "outputs": [],
   "source": [
    "# word2vec"
   ]
  },
  {
   "cell_type": "code",
   "execution_count": 3,
   "metadata": {},
   "outputs": [],
   "source": [
    "from gensim.test.utils import common_texts, get_tmpfile\n",
    "from gensim.models import Word2Vec\n",
    "path = get_tmpfile(\"word2vec.model\")\n",
    "\n",
    "w2v = api.load('word2vec-google-news-300')"
   ]
  },
  {
   "cell_type": "code",
   "execution_count": 1,
   "metadata": {},
   "outputs": [
    {
     "ename": "NameError",
     "evalue": "name 'w2v' is not defined",
     "output_type": "error",
     "traceback": [
      "\u001b[0;31m---------------------------------------------------------------------------\u001b[0m",
      "\u001b[0;31mNameError\u001b[0m                                 Traceback (most recent call last)",
      "\u001b[0;32m<ipython-input-1-cf1f33a48b0d>\u001b[0m in \u001b[0;36m<module>\u001b[0;34m\u001b[0m\n\u001b[1;32m      1\u001b[0m \u001b[0;32mimport\u001b[0m \u001b[0mpickle\u001b[0m\u001b[0;34m\u001b[0m\u001b[0;34m\u001b[0m\u001b[0m\n\u001b[0;32m----> 2\u001b[0;31m \u001b[0mpickle\u001b[0m\u001b[0;34m.\u001b[0m\u001b[0mdump\u001b[0m\u001b[0;34m(\u001b[0m\u001b[0mw2v\u001b[0m\u001b[0;34m,\u001b[0m \u001b[0mopen\u001b[0m\u001b[0;34m(\u001b[0m\u001b[0;34m\"w2v.p\"\u001b[0m\u001b[0;34m,\u001b[0m \u001b[0;34m'wb'\u001b[0m\u001b[0;34m)\u001b[0m\u001b[0;34m)\u001b[0m\u001b[0;34m\u001b[0m\u001b[0;34m\u001b[0m\u001b[0m\n\u001b[0m",
      "\u001b[0;31mNameError\u001b[0m: name 'w2v' is not defined"
     ]
    }
   ],
   "source": [
    "import pickle \n",
    "pickle.dump(w2v, open(\"w2v.p\", 'wb'))"
   ]
  },
  {
   "cell_type": "code",
   "execution_count": null,
   "metadata": {},
   "outputs": [],
   "source": [
    "import pickle\n",
    "w2v = pickle.load(open(\"w2v.p\", 'rb'))"
   ]
  },
  {
   "cell_type": "code",
   "execution_count": 27,
   "metadata": {},
   "outputs": [],
   "source": [
    "model = Word2Vec.load(\"word2vec.model\")"
   ]
  },
  {
   "cell_type": "code",
   "execution_count": null,
   "metadata": {},
   "outputs": [],
   "source": []
  },
  {
   "cell_type": "code",
   "execution_count": 4,
   "metadata": {},
   "outputs": [
    {
     "data": {
      "text/plain": [
       "array([ 0.11376953,  0.14257812,  0.09082031,  0.21386719, -0.20898438,\n",
       "        0.10595703,  0.16699219, -0.06542969, -0.27734375, -0.35351562,\n",
       "        0.10693359,  0.01013184, -0.0111084 , -0.00854492, -0.03540039,\n",
       "       -0.04492188, -0.1171875 ,  0.41992188, -0.07910156, -0.37304688,\n",
       "       -0.27734375,  0.05932617, -0.19921875, -0.06054688, -0.15625   ,\n",
       "       -0.06689453, -0.26367188,  0.12792969,  0.20898438, -0.23144531,\n",
       "       -0.19335938,  0.2421875 , -0.16796875, -0.18652344, -0.11425781,\n",
       "       -0.49609375,  0.15527344,  0.05664062, -0.00308228,  0.13183594,\n",
       "        0.359375  , -0.09716797,  0.18847656,  0.32226562,  0.453125  ,\n",
       "       -0.57421875,  0.15820312, -0.20605469,  0.1484375 , -0.1328125 ,\n",
       "       -0.48242188, -0.07617188,  0.01696777, -0.14746094, -0.05932617,\n",
       "        0.25195312, -0.26953125,  0.19824219,  0.13964844,  0.171875  ,\n",
       "       -0.31445312, -0.20703125, -0.18554688, -0.28710938, -0.09960938,\n",
       "        0.06445312, -0.171875  ,  0.00167847,  0.35351562, -0.10009766,\n",
       "        0.05029297,  0.37695312,  0.16015625, -0.10791016, -0.04980469,\n",
       "       -0.10986328,  0.23828125, -0.12353516,  0.23730469,  0.22363281,\n",
       "        0.12988281, -0.07763672,  0.08691406, -0.02392578, -0.00473022,\n",
       "       -0.05029297, -0.03039551,  0.2734375 ,  0.10742188, -0.09277344,\n",
       "       -0.02685547,  0.18066406, -0.14355469, -0.10693359, -0.16015625,\n",
       "        0.19238281,  0.17089844, -0.27929688,  0.20507812,  0.09472656,\n",
       "       -0.16210938, -0.22363281,  0.23730469, -0.02636719,  0.07910156,\n",
       "        0.30859375,  0.15820312,  0.35546875, -0.29101562, -0.11816406,\n",
       "        0.01165771, -0.19042969, -0.19824219, -0.07763672,  0.16699219,\n",
       "        0.11083984,  0.10351562, -0.27148438,  0.10107422, -0.21972656,\n",
       "        0.48046875,  0.38867188,  0.18066406, -0.22851562,  0.23242188,\n",
       "       -0.00769043, -0.34765625,  0.27734375,  0.48046875,  0.37109375,\n",
       "        0.00276184,  0.15429688, -0.44921875, -0.20214844,  0.22167969,\n",
       "       -0.07080078, -0.07373047, -0.12988281,  0.25195312,  0.08154297,\n",
       "       -0.11962891,  0.04663086, -0.43164062,  0.3125    , -0.07080078,\n",
       "        0.17578125,  0.03881836, -0.03491211, -0.46875   , -0.4375    ,\n",
       "       -0.01647949,  0.10546875,  0.01251221,  0.20507812, -0.10595703,\n",
       "       -0.20898438, -0.09521484, -0.12011719,  0.02453613,  0.15917969,\n",
       "       -0.08447266,  0.09375   ,  0.546875  , -0.16113281, -0.14453125,\n",
       "        0.14355469, -0.05126953, -0.5       , -0.29296875,  0.25585938,\n",
       "        0.20605469,  0.36914062, -0.4453125 ,  0.05175781, -0.05126953,\n",
       "       -0.20898438,  0.22363281,  0.05615234, -0.00750732,  0.02612305,\n",
       "       -0.28710938,  0.00976562, -0.0534668 ,  0.03100586, -0.25195312,\n",
       "        0.18066406, -0.42382812, -0.24707031, -0.34765625,  0.38476562,\n",
       "        0.03295898, -0.21582031, -0.05883789, -0.16503906,  0.20898438,\n",
       "        0.16308594,  0.10009766,  0.13964844,  0.09912109,  0.12792969,\n",
       "        0.29882812,  0.00442505,  0.20605469,  0.24023438, -0.08642578,\n",
       "       -0.16992188,  0.21875   ,  0.06884766,  0.37695312, -0.09521484,\n",
       "       -0.40625   ,  0.109375  , -0.22460938,  0.11572266,  0.078125  ,\n",
       "        0.17578125, -0.10888672,  0.17773438,  0.265625  ,  0.15722656,\n",
       "       -0.10791016,  0.04272461, -0.16308594,  0.09033203, -0.36914062,\n",
       "        0.2890625 , -0.15917969,  0.14648438,  0.0625    ,  0.08691406,\n",
       "       -0.29101562, -0.11767578,  0.14941406,  0.38085938, -0.00317383,\n",
       "       -0.19726562, -0.00671387, -0.04858398,  0.11230469, -0.06030273,\n",
       "        0.18847656, -0.04931641, -0.4375    , -0.02832031, -0.01855469,\n",
       "        0.08203125,  0.06884766,  0.05615234,  0.14941406, -0.06982422,\n",
       "       -0.13378906, -0.65625   , -0.05761719, -0.00872803,  0.09667969,\n",
       "       -0.27539062,  0.05395508, -0.00830078, -0.2109375 ,  0.5390625 ,\n",
       "        0.08398438, -0.12060547, -0.2578125 ,  0.08203125,  0.30664062,\n",
       "        0.15332031, -0.24804688, -0.01489258, -0.43945312, -0.08105469,\n",
       "       -0.00744629,  0.109375  , -0.44921875,  0.07177734,  0.2578125 ,\n",
       "       -0.13574219, -0.02294922, -0.13085938, -0.03710938,  0.06640625,\n",
       "       -0.00291443,  0.12792969, -0.02233887, -0.2265625 ,  0.11669922,\n",
       "       -0.09716797,  0.20214844, -0.25      , -0.26757812,  0.30273438,\n",
       "       -0.07958984,  0.32421875,  0.05419922, -0.11914062,  0.08496094,\n",
       "        0.17675781, -0.18457031,  0.0625    ,  0.19921875,  0.0291748 ],\n",
       "      dtype=float32)"
      ]
     },
     "execution_count": 4,
     "metadata": {},
     "output_type": "execute_result"
    }
   ],
   "source": [
    "w2v['iris']"
   ]
  },
  {
   "cell_type": "code",
   "execution_count": 7,
   "metadata": {},
   "outputs": [
    {
     "name": "stdout",
     "output_type": "stream",
     "text": [
      "25 25\n"
     ]
    }
   ],
   "source": [
    "target1 = [w2v[w] for w in flowers]\n",
    "target2 = [w2v[w] for w in insects]\n",
    "attribute1 = [w2v[w] for w in pleasant]\n",
    "attribute2 = [w2v[w] for w in unpleasant]\n",
    "print(len(target1), len(target2))\n"
   ]
  },
  {
   "cell_type": "code",
   "execution_count": 12,
   "metadata": {},
   "outputs": [
    {
     "name": "stdout",
     "output_type": "stream",
     "text": [
      " 1: pleasant: 0.098430   unpleasant 0.055520\n",
      " 2: pleasant: 0.095348   unpleasant 0.074315\n",
      " 3: pleasant: 0.100240   unpleasant 0.111693\n",
      " 4: pleasant: 0.123806   unpleasant 0.074648\n",
      " 5: pleasant: 0.079691   unpleasant 0.055805\n",
      " 6: pleasant: 0.107153   unpleasant 0.087630\n",
      " 7: pleasant: 0.111998   unpleasant 0.070794\n",
      " 8: pleasant: 0.081500   unpleasant 0.025103\n",
      " 9: pleasant: 0.121008   unpleasant 0.060515\n",
      "10: pleasant: 0.049229   unpleasant 0.040715\n",
      "11: pleasant: 0.114701   unpleasant 0.060816\n",
      "12: pleasant: 0.120861   unpleasant 0.078598\n",
      "13: pleasant: 0.119460   unpleasant 0.075937\n",
      "14: pleasant: 0.105078   unpleasant 0.079522\n",
      "15: pleasant: 0.123912   unpleasant 0.066678\n",
      "16: pleasant: 0.134365   unpleasant 0.086581\n",
      "17: pleasant: 0.119924   unpleasant 0.076156\n",
      "18: pleasant: 0.144185   unpleasant 0.079086\n",
      "19: pleasant: 0.136564   unpleasant 0.077394\n",
      "20: pleasant: 0.112313   unpleasant 0.056778\n",
      "21: pleasant: 0.141890   unpleasant 0.080653\n",
      "22: pleasant: 0.113686   unpleasant 0.068671\n",
      "23: pleasant: 0.113875   unpleasant 0.069260\n",
      "24: pleasant: 0.111529   unpleasant 0.067727\n",
      "25: pleasant: 0.115077   unpleasant 0.047181\n",
      "Average flowers:  0.042721793\n",
      "26: pleasant: 0.083472   unpleasant 0.105523\n",
      "27: pleasant: 0.083092   unpleasant 0.083853\n",
      "28: pleasant: 0.061983   unpleasant 0.049523\n",
      "29: pleasant: 0.036312   unpleasant 0.081039\n",
      "30: pleasant: 0.105680   unpleasant 0.089394\n",
      "31: pleasant: 0.024695   unpleasant 0.090220\n",
      "32: pleasant: 0.091546   unpleasant 0.076132\n",
      "33: pleasant: 0.096728   unpleasant 0.085216\n",
      "34: pleasant: 0.068564   unpleasant 0.123802\n",
      "35: pleasant: 0.125695   unpleasant 0.105502\n",
      "36: pleasant: 0.083907   unpleasant 0.079851\n",
      "37: pleasant: 0.095324   unpleasant 0.124096\n",
      "38: pleasant: 0.055212   unpleasant 0.070507\n",
      "39: pleasant: 0.058179   unpleasant 0.090616\n",
      "40: pleasant: 0.046479   unpleasant 0.072465\n",
      "41: pleasant: 0.048793   unpleasant 0.083890\n",
      "42: pleasant: 0.085743   unpleasant 0.097535\n",
      "43: pleasant: 0.064954   unpleasant 0.071307\n",
      "44: pleasant: 0.069585   unpleasant 0.082420\n",
      "45: pleasant: 0.078796   unpleasant 0.119627\n",
      "46: pleasant: 0.099652   unpleasant 0.126855\n",
      "47: pleasant: 0.109093   unpleasant 0.056114\n",
      "48: pleasant: 0.123584   unpleasant 0.120278\n",
      "49: pleasant: 0.051187   unpleasant 0.075835\n",
      "50: pleasant: 0.063475   unpleasant 0.090633\n",
      "Average insects:  -0.013620088\n",
      "51: pleasant: 0.098430   unpleasant 0.055520\n",
      "52: pleasant: 0.095348   unpleasant 0.074315\n",
      "53: pleasant: 0.100240   unpleasant 0.111693\n",
      "54: pleasant: 0.123806   unpleasant 0.074648\n",
      "55: pleasant: 0.079691   unpleasant 0.055805\n",
      "56: pleasant: 0.107153   unpleasant 0.087630\n",
      "57: pleasant: 0.111998   unpleasant 0.070794\n",
      "58: pleasant: 0.081500   unpleasant 0.025103\n",
      "59: pleasant: 0.121008   unpleasant 0.060515\n",
      "60: pleasant: 0.049229   unpleasant 0.040715\n",
      "61: pleasant: 0.114701   unpleasant 0.060816\n",
      "62: pleasant: 0.120861   unpleasant 0.078598\n",
      "63: pleasant: 0.119460   unpleasant 0.075937\n",
      "64: pleasant: 0.105078   unpleasant 0.079522\n",
      "65: pleasant: 0.123912   unpleasant 0.066678\n",
      "66: pleasant: 0.134365   unpleasant 0.086581\n",
      "67: pleasant: 0.119924   unpleasant 0.076156\n",
      "68: pleasant: 0.144185   unpleasant 0.079086\n",
      "69: pleasant: 0.136564   unpleasant 0.077394\n",
      "70: pleasant: 0.112313   unpleasant 0.056778\n",
      "71: pleasant: 0.141890   unpleasant 0.080653\n",
      "72: pleasant: 0.113686   unpleasant 0.068671\n",
      "73: pleasant: 0.113875   unpleasant 0.069260\n",
      "74: pleasant: 0.111529   unpleasant 0.067727\n",
      "75: pleasant: 0.115077   unpleasant 0.047181\n",
      "76: pleasant: 0.083472   unpleasant 0.105523\n",
      "77: pleasant: 0.083092   unpleasant 0.083853\n",
      "78: pleasant: 0.061983   unpleasant 0.049523\n",
      "79: pleasant: 0.036312   unpleasant 0.081039\n",
      "80: pleasant: 0.105680   unpleasant 0.089394\n",
      "81: pleasant: 0.024695   unpleasant 0.090220\n",
      "82: pleasant: 0.091546   unpleasant 0.076132\n",
      "83: pleasant: 0.096728   unpleasant 0.085216\n",
      "84: pleasant: 0.068564   unpleasant 0.123802\n",
      "85: pleasant: 0.125695   unpleasant 0.105502\n",
      "86: pleasant: 0.083907   unpleasant 0.079851\n",
      "87: pleasant: 0.095324   unpleasant 0.124096\n",
      "88: pleasant: 0.055212   unpleasant 0.070507\n",
      "89: pleasant: 0.058179   unpleasant 0.090616\n",
      "90: pleasant: 0.046479   unpleasant 0.072465\n",
      "91: pleasant: 0.048793   unpleasant 0.083890\n",
      "92: pleasant: 0.085743   unpleasant 0.097535\n",
      "93: pleasant: 0.064954   unpleasant 0.071307\n",
      "94: pleasant: 0.069585   unpleasant 0.082420\n",
      "95: pleasant: 0.078796   unpleasant 0.119627\n",
      "96: pleasant: 0.099652   unpleasant 0.126855\n",
      "97: pleasant: 0.109093   unpleasant 0.056114\n",
      "98: pleasant: 0.123584   unpleasant 0.120278\n",
      "99: pleasant: 0.051187   unpleasant 0.075835\n",
      "100: pleasant: 0.063475   unpleasant 0.090633\n"
     ]
    },
    {
     "data": {
      "text/plain": [
       "1.408546969294548"
      ]
     },
     "execution_count": 12,
     "metadata": {},
     "output_type": "execute_result"
    }
   ],
   "source": [
    "i = 1\n",
    "import numpy as np\n",
    "def mean_sim(word, attributes):\n",
    "    cos = [cosine_similarity([word], [a]) for a in attributes]\n",
    "    cos2 = [x[0][0] for x in cos]\n",
    "    return (np.mean(cos2), np.std(cos2))\n",
    "\n",
    "def testWord(w, A, B):\n",
    "    global i\n",
    "    print(\"%2i: pleasant: %f   unpleasant %f\" % (i, mean_sim(w, A)[0] , mean_sim(w, B)[0]))\n",
    "    i += 1\n",
    "    return mean_sim(w, A)[0] - mean_sim(w, B)[0]\n",
    "\n",
    "def doTest(X, Y, A, B):\n",
    "    print(\"Average flowers: \",  np.mean([testWord(x, A, B) for x in X]))\n",
    "    print(\"Average insects: \",  np.mean([testWord(y, A, B) for y in Y]))\n",
    "    return sum([testWord(x, A, B) for x in X]) - sum([testWord(y, A, B) for y in Y])\n",
    "    \n",
    "#[ x[0][0] for x in mean_sim(target1[0], attribute1) ]   \n",
    "#testWord(target1[0], attribute1, attribute2)\n",
    "doTest(target1, target2, attribute1, attribute2)"
   ]
  },
  {
   "cell_type": "code",
   "execution_count": null,
   "metadata": {},
   "outputs": [],
   "source": []
  }
 ],
 "metadata": {
  "kernelspec": {
   "display_name": "Python 3",
   "language": "python",
   "name": "python3"
  },
  "language_info": {
   "codemirror_mode": {
    "name": "ipython",
    "version": 3
   },
   "file_extension": ".py",
   "mimetype": "text/x-python",
   "name": "python",
   "nbconvert_exporter": "python",
   "pygments_lexer": "ipython3",
   "version": "3.6.9"
  }
 },
 "nbformat": 4,
 "nbformat_minor": 4
}
