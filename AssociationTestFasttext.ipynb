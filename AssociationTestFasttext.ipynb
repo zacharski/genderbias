{
 "cells": [
  {
   "cell_type": "markdown",
   "metadata": {},
   "source": [
    "# Replicating \"Semantics derived automatically from language corpora contain human-like biases\" using FastText"
   ]
  },
  {
   "cell_type": "code",
   "execution_count": 11,
   "metadata": {},
   "outputs": [
    {
     "name": "stdout",
     "output_type": "stream",
     "text": [
      "3.8.1\n"
     ]
    }
   ],
   "source": [
    "import gensim\n",
    "from gensim.matutils import softcossim \n",
    "from gensim import corpora\n",
    "import gensim.downloader as api\n",
    "import numpy as np\n",
    "from sklearn.metrics.pairwise import cosine_similarity\n",
    "from gensim.utils import simple_preprocess\n",
    "print(gensim.__version__)"
   ]
  },
  {
   "cell_type": "markdown",
   "metadata": {},
   "source": [
    "## now download and save FastText model\n",
    "\n",
    "#### [Gensim FastText Documentation](https://radimrehurek.com/gensim/models/fasttext.html)\n",
    "\n",
    "If it is not downloaded already"
   ]
  },
  {
   "cell_type": "code",
   "execution_count": 2,
   "metadata": {},
   "outputs": [],
   "source": [
    "#fasttext_model300 = api.load('fasttext-wiki-news-subwords-300')\n",
    "# save the download for faster start of notebook\n",
    "#import pickle \n",
    "#pickle.dump(fasttest_model300, open(\"fasttext.p\", 'wb'))"
   ]
  },
  {
   "cell_type": "markdown",
   "metadata": {},
   "source": [
    "### if already saved, load the model"
   ]
  },
  {
   "cell_type": "code",
   "execution_count": 3,
   "metadata": {},
   "outputs": [],
   "source": [
    "import pickle\n",
    "fasttext_model300 = pickle.load(open(\"fasttext.p\", 'rb'))"
   ]
  },
  {
   "cell_type": "markdown",
   "metadata": {},
   "source": [
    "### simple data from the paper"
   ]
  },
  {
   "cell_type": "code",
   "execution_count": 5,
   "metadata": {},
   "outputs": [],
   "source": [
    "professions1 = ['programmer', 'engineer', 'scientist']\n",
    "professions2 = ['nurse', 'teacher', 'librarian']\n",
    "male = ['man', 'he']\n",
    "female = ['woman', 'she']"
   ]
  },
  {
   "cell_type": "markdown",
   "metadata": {},
   "source": [
    "### Convert to vectors using FastText"
   ]
  },
  {
   "cell_type": "code",
   "execution_count": 7,
   "metadata": {},
   "outputs": [],
   "source": [
    "target1 = [fasttext_model300[w] for w in professions1]\n",
    "target2 = [fasttext_model300[w] for w in professions2]\n",
    "attribute1 = [fasttext_model300[w] for w in male]\n",
    "attribute2 = [fasttext_model300[w] for w in female]\n"
   ]
  },
  {
   "cell_type": "markdown",
   "metadata": {},
   "source": [
    "### The cosine similarity functions"
   ]
  },
  {
   "cell_type": "code",
   "execution_count": 20,
   "metadata": {},
   "outputs": [
    {
     "data": {
      "text/plain": [
       "0.3448413908481598"
      ]
     },
     "execution_count": 20,
     "metadata": {},
     "output_type": "execute_result"
    }
   ],
   "source": [
    "def mean_sim(word, attributes):\n",
    "    cos = [cosine_similarity([word], [a]) for a in attributes]\n",
    "    return np.mean([x[0][0] for x in cos])\n",
    "\n",
    "def testWord(w, A, B):\n",
    "    return mean_sim(w, A) - mean_sim(w, B)\n",
    "\n",
    "def doTest(X, Y, A, B):\n",
    "    return sum([testWord(x, A, B) for x in X]) - sum([testWord(y, A, B) for y in Y])\n",
    "    \n",
    "#[ x[0][0] for x in mean_sim(target1[0], attribute1) ]   \n",
    "testWord(target1[0], attribute1, attribute2)\n",
    "doTest(target1, target2, attribute1, attribute2)"
   ]
  },
  {
   "cell_type": "code",
   "execution_count": null,
   "metadata": {},
   "outputs": [],
   "source": []
  }
 ],
 "metadata": {
  "kernelspec": {
   "display_name": "Python 3",
   "language": "python",
   "name": "python3"
  },
  "language_info": {
   "codemirror_mode": {
    "name": "ipython",
    "version": 3
   },
   "file_extension": ".py",
   "mimetype": "text/x-python",
   "name": "python",
   "nbconvert_exporter": "python",
   "pygments_lexer": "ipython3",
   "version": "3.6.9"
  }
 },
 "nbformat": 4,
 "nbformat_minor": 4
}
