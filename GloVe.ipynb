{
 "cells": [
  {
   "cell_type": "markdown",
   "metadata": {},
   "source": [
    "# GloVe Word Embedding Association Test\n",
    "\n",
    "### First the imports"
   ]
  },
  {
   "cell_type": "code",
   "execution_count": 1,
   "metadata": {},
   "outputs": [
    {
     "name": "stdout",
     "output_type": "stream",
     "text": [
      "3.8.1\n"
     ]
    }
   ],
   "source": [
    "import gensim\n",
    "from gensim.matutils import softcossim \n",
    "from gensim import corpora\n",
    "import gensim.downloader as api\n",
    "import numpy as np\n",
    "from sklearn.metrics.pairwise import cosine_similarity\n",
    "from gensim.utils import simple_preprocess\n",
    "print(gensim.__version__)"
   ]
  },
  {
   "cell_type": "markdown",
   "metadata": {},
   "source": [
    "## Sample data - Insects and Flowers"
   ]
  },
  {
   "cell_type": "code",
   "execution_count": 5,
   "metadata": {},
   "outputs": [],
   "source": [
    "flowers = ['aster', 'clover', 'hyacinth', 'marigold', 'poppy', 'azalea', 'crocus', 'iris', 'orchid', \n",
    "           'rose', 'bluebell', 'daffodil', 'lilac', 'pansy', 'tulip', 'buttercup', 'daisy', 'lily', \n",
    "           'peony', 'violet', 'carnation', 'geranium','magnolia', 'petunia', 'zinnia']  \n",
    "\n",
    "insects = ['ant', 'caterpillar', 'flea', 'locust', 'spider', 'bedbug', 'centipede', 'fly', 'maggot', \n",
    "           'tarantula', 'bee', 'cockroach', 'gnat', 'mosquito', 'termite', 'beetle', 'cricket', \n",
    "           'hornet', 'moth', 'wasp', 'blackfly','dragonfly', 'horsefly', 'roach', 'weevil']\n",
    "\n",
    "pleasant = ['caress', 'freedom', 'health', 'love', 'peace', 'cheer', 'friend','heaven', 'loyal',\n",
    "            'pleasure', 'diamond', 'gentle', 'honest', 'lucky', 'rainbow', 'diploma', 'gift', \n",
    "            'honor', 'miracle', 'sunrise', 'family', 'happy', 'laughter', 'paradise', 'vacation']\n",
    "\n",
    "unpleasant = ['abuse', 'crash', 'filth', 'murder', 'sickness', 'accident', 'death', \n",
    "              'grief', 'poison', 'stink',  'assault', 'disaster', 'hatred', 'pollute', 'tragedy', \n",
    "              'divorce', 'jail', 'poverty', 'ugly', 'cancer', 'kill', 'rotten', 'vomit', 'agony', 'prison']"
   ]
  },
  {
   "cell_type": "markdown",
   "metadata": {},
   "source": [
    "## Load the GloVe pre-trained embeddings\n",
    "\n",
    "From the Common Crawl Corpus 2.2 million unique words, 300-dimensional vector"
   ]
  },
  {
   "cell_type": "code",
   "execution_count": 3,
   "metadata": {},
   "outputs": [],
   "source": [
    "from gensim.scripts.glove2word2vec import glove2word2vec\n",
    "glove_input_file = 'glove.840B.300d.txt' # glove.840B.300d\n",
    "word2vec_output_file = 'glove840b.300d.w2v'\n",
    "#glove2word2vec(glove_input_file, word2vec_output_file)"
   ]
  },
  {
   "cell_type": "markdown",
   "metadata": {},
   "source": [
    "### now load it"
   ]
  },
  {
   "cell_type": "code",
   "execution_count": 4,
   "metadata": {},
   "outputs": [],
   "source": [
    "from gensim.models import KeyedVectors\n",
    "model = KeyedVectors.load_word2vec_format(word2vec_output_file)"
   ]
  },
  {
   "cell_type": "markdown",
   "metadata": {},
   "source": [
    "### now convert data to vectors"
   ]
  },
  {
   "cell_type": "code",
   "execution_count": 20,
   "metadata": {},
   "outputs": [
    {
     "name": "stdout",
     "output_type": "stream",
     "text": [
      "25 25\n"
     ]
    }
   ],
   "source": [
    "nurse = [\"care\", \"patient\", \"nurse\", \"nursing\", \"patients\", \"health\", \"hospital\", \"RN\", \"staff\", \"therapy\"\n",
    "\n",
    "         \"healthcare\", \"provider\", \"practitioner\", \"staffing\", \"outpatient\", \"family\", \"famiies\", \"home\", \"clinic\", \n",
    "\n",
    "male = ['man', 'men', 'brother', \"father\", \"uncle\", \"grandfather\", \"son\", \"he\", \"his\", \"him\"]\n",
    "\n",
    "female = ['woman', 'women', \"sister\", \"mother\", \"aunt\", \"grandmother\", \"daughter\", \"she\", \"hers\", \"her\"]"
   ]
  },
  {
   "cell_type": "markdown",
   "metadata": {},
   "source": [
    "## Now, we need to convert the formulas from the paper"
   ]
  },
  {
   "cell_type": "code",
   "execution_count": 55,
   "metadata": {},
   "outputs": [
    {
     "name": "stdout",
     "output_type": "stream",
     "text": [
      "males: 0.307276   female 0.345356\n",
      "males: 0.264841   female 0.322488\n",
      "males: 0.296172   female 0.448483\n",
      "males: 0.210416   female 0.327193\n",
      "males: 0.168572   female 0.232252\n",
      "males: 0.214436   female 0.263055\n",
      "males: 0.326970   female 0.366775\n",
      "males: 0.001115   female 0.095459\n",
      "males: 0.226772   female 0.210137\n",
      "males: 0.151517   female 0.224009\n",
      "males: 0.127146   female 0.159022\n",
      "males: 0.101282   female 0.123084\n",
      "males: 0.185828   female 0.213213\n",
      "males: 0.027250   female 0.051616\n",
      "males: 0.060516   female 0.112707\n",
      "males: 0.452772   female 0.466966\n",
      "males: -0.102539   female -0.086660\n",
      "males: 0.378629   female 0.379099\n",
      "males: 0.226569   female 0.281714\n",
      "males: 0.091845   female 0.143824\n",
      "males: 0.292008   female 0.166306\n",
      "males: 0.150269   female 0.126159\n",
      "males: 0.052183   female 0.058905\n",
      "males: 0.078372   female 0.092080\n",
      "males: 0.106126   female 0.074782\n",
      "males: 0.113220   female 0.086201\n",
      "males: -0.059521   female -0.078201\n",
      "males: -0.014253   female -0.053625\n",
      "males: 0.162285   female 0.138887\n",
      "males: 0.042382   female 0.058699\n",
      "males: 0.087401   female 0.065541\n",
      "males: 0.096820   female 0.051500\n",
      "males: 0.121904   female 0.054945\n",
      "males: 0.206341   female 0.194768\n",
      "males: 0.141997   female 0.130289\n",
      "males: 0.130078   female 0.138995\n",
      "males: 0.040478   female 0.022900\n",
      "males: 0.143012   female 0.137138\n",
      "males: 0.080729   female 0.043760\n",
      "males: 0.027401   female -0.004219\n",
      "males: 0.211383   female 0.178130\n"
     ]
    },
    {
     "data": {
      "text/plain": [
       "-0.07319996"
      ]
     },
     "execution_count": 55,
     "metadata": {},
     "output_type": "execute_result"
    }
   ],
   "source": [
    "def mean_sim(word, attributes):\n",
    "    cos = [cosine_similarity([word], [a]) for a in attributes]\n",
    "    cos2 = [x[0][0] for x in cos]\n",
    "    return (np.mean(cos2))\n",
    "\n",
    "def testWord(w, A, B):\n",
    "    # this gives us the s(w, A, B) from the original paper\n",
    "    print(\"males: %f   female %f\" % (mean_sim(w, A) , mean_sim(w, B)))\n",
    "    return mean_sim(w, A) - mean_sim(w, B)\n",
    "\n",
    "def numerator(X, Y, A, B):\n",
    "    return np.mean([testWord(x, A, B) for x in X]) - np.mean([testWord(y, A, B) for y in Y])\n",
    "    \n",
    "#[ x[0][0] for x in mean_sim(target1[0], attribute1) ]   \n",
    "#testWord(target1[0], attribute1, attribute2)\n",
    "numerator(target1, target2, attribute1, attribute2)"
   ]
  },
  {
   "cell_type": "markdown",
   "metadata": {},
   "source": [
    "### now the standard deviation from the paper"
   ]
  },
  {
   "cell_type": "code",
   "execution_count": 14,
   "metadata": {},
   "outputs": [
    {
     "name": "stdout",
     "output_type": "stream",
     "text": [
      "0.051646188\n"
     ]
    }
   ],
   "source": [
    "def denominator(X, Y, A, B):\n",
    "    full = np.concatenate((X,Y))\n",
    "    foo = [testWord(x, A, B) for x in full]\n",
    "    return(np.std(foo))\n",
    "    \n",
    "print(denominator(target1, target2, attribute1, attribute2) )   \n"
   ]
  },
  {
   "cell_type": "markdown",
   "metadata": {},
   "source": [
    "## finally the Cohen's D"
   ]
  },
  {
   "cell_type": "code",
   "execution_count": 15,
   "metadata": {},
   "outputs": [],
   "source": [
    "def cohenD(t1, t2, a1, a2):\n",
    "    return numerator(t1, t2, a1, a2) / denominator(t1, t2,  a1, a2)"
   ]
  },
  {
   "cell_type": "code",
   "execution_count": 17,
   "metadata": {},
   "outputs": [
    {
     "data": {
      "text/plain": [
       "1.383523"
      ]
     },
     "execution_count": 17,
     "metadata": {},
     "output_type": "execute_result"
    }
   ],
   "source": [
    "cohenD(target1, target2, attribute2, attribute1)"
   ]
  },
  {
   "cell_type": "markdown",
   "metadata": {},
   "source": [
    "### Results\n",
    "GloVe results on flowers / insects Cohen's D of 1.5339754"
   ]
  },
  {
   "cell_type": "code",
   "execution_count": 39,
   "metadata": {},
   "outputs": [
    {
     "data": {
      "text/plain": [
       "50"
      ]
     },
     "execution_count": 39,
     "metadata": {},
     "output_type": "execute_result"
    }
   ],
   "source": [
    "len(np.concatenate((attribute1, attribute2)))"
   ]
  },
  {
   "cell_type": "markdown",
   "metadata": {},
   "source": [
    "# More sample data\n",
    "\n",
    "### WEAT Science Arts / male female"
   ]
  },
  {
   "cell_type": "code",
   "execution_count": 14,
   "metadata": {},
   "outputs": [],
   "source": [
    "science = [\"science\", \"technology\", \"physics\", \"chemistry\", \"Einstein\", \"NASA\", \"experiment\", \"astronomy\"]\n",
    "arts = ['poetry', \"art\", \"Shakespeare\", \"dance\", \"literature\", \"novel\", \"symphony\", \"drama\"]\n",
    "male = ['brother', \"father\", \"uncle\", \"grandfather\", \"son\", \"he\", \"his\", \"him\"]\n",
    "female = [\"sister\", \"mother\", \"aunt\", \"grandmother\", \"daughter\", \"she\", \"hers\", \"her\"]"
   ]
  },
  {
   "cell_type": "code",
   "execution_count": 15,
   "metadata": {},
   "outputs": [
    {
     "data": {
      "text/plain": [
       "1.278036"
      ]
     },
     "execution_count": 15,
     "metadata": {},
     "output_type": "execute_result"
    }
   ],
   "source": [
    "target1 = [model[w] for w in science]\n",
    "target2 = [model[w] for w in arts]\n",
    "attribute1 = [model[w] for w in male]\n",
    "attribute2 = [model[w] for w in female]\n",
    "cohenD(target1, target2, attribute1, attribute2)"
   ]
  },
  {
   "cell_type": "markdown",
   "metadata": {},
   "source": [
    "#### Cohen D for Science Arts 1.278036\n",
    "\n",
    "### WEAT Career, Family / male, female\n"
   ]
  },
  {
   "cell_type": "code",
   "execution_count": 16,
   "metadata": {},
   "outputs": [],
   "source": [
    "career = [\"executive\", \"management\", \"professional\", \"corporation\", \"salary\", \"office\", \"business\", \"career\"]\n",
    "family = [\"home\", \"parents\", \"children\", \"family\", \"cousins\", \"marriage\", \"wedding\", \"relatives\"]\n",
    "maleNames = [\"John\", \"Paul\", \"Mike\", \"Kevin\", \"Steve\", \"Greg\", \"Jeff\", \"Bill\"]\n",
    "femaleNames = [\"Amy\", \"Joan\", \"Lisa\", \"Sarah\", \"Diana\", \"Kate\", \"Ann\", \"Donna\"]"
   ]
  },
  {
   "cell_type": "code",
   "execution_count": 17,
   "metadata": {},
   "outputs": [
    {
     "data": {
      "text/plain": [
       "1.8607559"
      ]
     },
     "execution_count": 17,
     "metadata": {},
     "output_type": "execute_result"
    }
   ],
   "source": [
    "target1 = [model[w] for w in career]\n",
    "target2 = [model[w] for w in family]\n",
    "attribute1 = [model[w] for w in maleNames]\n",
    "attribute2 = [model[w] for w in femaleNamesWEAT]\n",
    "cohenD(target1, target2, attribute1, attribute2)"
   ]
  },
  {
   "cell_type": "markdown",
   "metadata": {},
   "source": [
    "#### Cohen's D for Career Family / male female names  1.8607559\n",
    "\n",
    "### WEAT Instruments  Weapons / Pleasant Unpleasant"
   ]
  },
  {
   "cell_type": "code",
   "execution_count": 4,
   "metadata": {},
   "outputs": [],
   "source": [
    "instruments = [\"bagpipe\", \"cello\", \"guitar\", \"lute\", \"trombone\", \"banjo\", \"clarinet\", \"harmonica\", \"mandolin\",\n",
    "\"trumpet\", \"bassoon\", \"drum\", \"harp\", \"oboe\", \"tuba\", \"bell\", \"fiddle\", \"harpsichord\", \"piano\", \"viola\", \"bongo\",\n",
    "\"flute\", \"horn\", \"saxophone\", \"violin\"]\n",
    "\n",
    "weapons = [\"arrow\", \"club\", \"gun\", \"missile\", \"spear\", \"axe\", \"dagger\", \"harpoon\", \"pistol\", \"sword\", \"blade\",\n",
    "\"dynamite\", \"hatchet\", \"rifle\", \"tank\", \"bomb\", \"firearm\", \"knife\", \"shotgun\", \"teargas\", \"cannon\", \"grenade\",\n",
    "\"mace\", \"slingshot\", \"whip\"]"
   ]
  },
  {
   "cell_type": "code",
   "execution_count": 18,
   "metadata": {},
   "outputs": [
    {
     "data": {
      "text/plain": [
       "1.5495626"
      ]
     },
     "execution_count": 18,
     "metadata": {},
     "output_type": "execute_result"
    }
   ],
   "source": [
    "glove.6B.300d"
   ]
  },
  {
   "cell_type": "markdown",
   "metadata": {},
   "source": [
    "#### Cohen D for instruments  weapons  1.5495626"
   ]
  },
  {
   "cell_type": "markdown",
   "metadata": {},
   "source": [
    "##  Profession Related"
   ]
  },
  {
   "cell_type": "code",
   "execution_count": 26,
   "metadata": {},
   "outputs": [],
   "source": [
    "professions1 = ['programmer', 'engineer', 'scientist', \"developer\", \"mechanic\", \"Javascript\", \"Google\", \"aerospace\" ]\n",
    "professions2 = ['nurse', 'teacher', 'librarian', \"clerk\", \"volunteer\", \"community\", \"bookkeeper\", \"cashier\" ]\n",
    "#MAN\tHE\tMEN\tHIM\tBOY\tHIS\t\n",
    "male = ['man', \"men\", \"his\", 'he', 'him']\n",
    "female = ['woman', \"women\", 'she', 'her', \"hers\"]"
   ]
  },
  {
   "cell_type": "markdown",
   "metadata": {},
   "source": [
    "model['Javascript']"
   ]
  },
  {
   "cell_type": "code",
   "execution_count": 27,
   "metadata": {},
   "outputs": [
    {
     "data": {
      "text/plain": [
       "1.5763113"
      ]
     },
     "execution_count": 27,
     "metadata": {},
     "output_type": "execute_result"
    }
   ],
   "source": [
    "nurse = [\"care\", \"patient\", \"nurse\", \"nursing\", \"patients\", \"health\", \"hospital\", \"RN\", \"staff\", \"therapy\"\n",
    "\n",
    "         \"healthcare\", \"provider\", \"practitioner\", \"staffing\", \"outpatient\", \"family\", \"famiies\", \"home\", \"clinic\", \n",
    "\n",
    "male = ['man', 'men', 'brother', \"father\", \"uncle\", \"grandfather\", \"son\", \"he\", \"his\", \"him\"]\n",
    "\n",
    "female = ['woman', 'women', \"sister\", \"mother\", \"aunt\", \"grandmother\", \"daughter\", \"she\", \"hers\", \"her\"]target1 = [model[w] for w in professions1]\n",
    "target2 = [model[w] for w in professions2]\n",
    "attribute1 = [model[w] for w in male]\n",
    "attribute2 = [model[w] for w in female]\n",
    "cohenD(target1, target2, attribute1, attribute2)"
   ]
  },
  {
   "cell_type": "markdown",
   "metadata": {},
   "source": [
    "## Profession Related cohen 1.57\n",
    "next try to find the most common words in resumes\n"
   ]
  },
  {
   "cell_type": "code",
   "execution_count": null,
   "metadata": {},
   "outputs": [],
   "source": []
  },
  {
   "cell_type": "markdown",
   "metadata": {},
   "source": [
    "# FastText  Model"
   ]
  },
  {
   "cell_type": "code",
   "execution_count": 28,
   "metadata": {},
   "outputs": [],
   "source": [
    "glove.6B.300dimport pickle\n",
    "fasttext = pickle.load(open(\"fasttext.p\", 'rb'))"
   ]
  },
  {
   "cell_type": "markdown",
   "metadata": {},
   "source": [
    "## Flowers Insects"
   ]
  },
  {
   "cell_type": "code",
   "execution_count": 29,
   "metadata": {},
   "outputs": [],
   "source": [
    "flowers = ['aster', 'clover', 'hyacinth', 'marigold', 'poppy', 'azalea', 'crocus', 'iris', 'orchid', \n",
    "           'rose', 'bluebell', 'daffodil', 'lilac', 'pansy', 'tulip', 'buttercup', 'daisy', 'lily', \n",
    "           'peony', 'violet', 'carnation', 'geranium','magnolia', 'petunia', 'zinnia']  \n",
    "\n",
    "insects = ['ant', 'caterpillar', 'flea', 'locust', 'spider', 'bedbug', 'centipede', 'fly', 'maggot', \n",
    "           'tarantula', 'bee', 'cockroach', 'gnat', 'mosquito', 'termite', 'beetle', 'cricket', \n",
    "           'hornet', 'moth', 'wasp', 'blackfly','dragonfly', 'horsefly', 'roach', 'weevil']\n",
    "\n",
    "pleasant = ['caress', 'freedom', 'health', 'love', 'peace', 'cheer', 'friend','heaven', 'loyal',\n",
    "            'pleasure', 'diamond', 'gentle', 'honest', 'lucky', 'rainbow', 'diploma', 'gift', \n",
    "            'honor', 'miracle', 'sunrise', 'family', 'happy', 'laughter', 'paradise', 'vacation']\n",
    "\n",
    "unpleasant = ['abuse', 'crash', 'filth', 'murder', 'sickness', 'accident', 'death', \n",
    "              'grief', 'poison', 'stink',  'assault', 'disaster', 'hatred', 'pollute', 'tragedy', \n",
    "              'divorce', 'jail', 'poverty', 'ugly', 'cancer', 'kill', 'rotten', 'vomit', 'agony', 'prison']"
   ]
  },
  {
   "cell_type": "code",
   "execution_count": 30,
   "metadata": {},
   "outputs": [
    {
     "data": {
      "text/plain": [
       "1.5240668"
      ]
     },
     "execution_count": 30,
     "metadata": {},
     "output_type": "execute_result"
    }
   ],
   "source": [
    "target1 = [fasttext[w] for w in flowers]\n",
    "target2 = [fasttext[w] for w in insects]\n",
    "attribute1 = [fasttext[w] for w in pleasant]\n",
    "attribute2 = [fasttext[w] for w in unpleasant]\n",
    "cohenD(target1, target2, attribute1, attribute2)"
   ]
  },
  {
   "cell_type": "markdown",
   "metadata": {},
   "source": [
    "#### FastText Flower Insect Cohen D 1,5240668\n",
    "\n",
    "## Science Arts"
   ]
  },
  {
   "cell_type": "code",
   "execution_count": 31,
   "metadata": {},
   "outputs": [],
   "source": [
    "science = [\"science\", \"technology\", \"physics\", \"chemistry\", \"Einstein\", \"NASA\", \"experiment\", \"astronomy\"]\n",
    "arts = ['poetry', \"art\", \"Shakespeare\", \"dance\", \"literature\", \"novel\", \"symphony\", \"drama\"]\n",
    "male = ['brother', \"father\", \"uncle\", \"grandfather\", \"son\", \"he\", \"his\", \"him\"]\n",
    "female = [\"sister\", \"mother\", \"aunt\", \"grandmother\", \"daughter\", \"she\", \"hers\", \"her\"]"
   ]
  },
  {
   "cell_type": "code",
   "execution_count": 32,
   "metadata": {},
   "outputs": [
    {
     "data": {
      "text/plain": [
       "1.008413"
      ]
     },
     "execution_count": 32,
     "metadata": {},
     "output_type": "execute_result"
    }
   ],
   "source": [
    "target1 = [fasttext[w] for w in science]\n",
    "target2 = [fasttext[w] for w in arts]\n",
    "attribute1 = [fasttext[w] for w in male]\n",
    "attribute2 = [fasttext[w] for w in female]\n",
    "cohenD(target1, target2, attribute1, attribute2)"
   ]
  },
  {
   "cell_type": "markdown",
   "metadata": {},
   "source": [
    "#### FastText Science Arts Cohen D 1.008413\n",
    "\n",
    "## Career Family"
   ]
  },
  {
   "cell_type": "code",
   "execution_count": 34,
   "metadata": {},
   "outputs": [
    {
     "data": {
      "text/plain": [
       "1.7501867"
      ]
     },
     "execution_count": 34,
     "metadata": {},
     "output_type": "execute_result"
    }
   ],
   "source": [
    "glove.6B.300dtarget1 = [fasttext[w] for w in career]\n",
    "target2 = [fasttext[w] for w in family]\n",
    "attribute1 = [fasttext[w] for w in maleNames]\n",
    "attribute2 = [fasttext[w] for w in femaleNames]\n",
    "cohenD(target1, target2, attribute1, attribute2)"
   ]
  },
  {
   "cell_type": "markdown",
   "metadata": {},
   "source": [
    "#### FastText Career Family  Cohen D 1.7501867\n",
    "\n",
    "## Instruments Weapons"
   ]
  },
  {
   "cell_type": "code",
   "execution_count": 35,
   "metadata": {},
   "outputs": [
    {
     "data": {
      "text/plain": [
       "1.6313261"
      ]
     },
     "execution_count": 35,
     "metadata": {},
     "output_type": "execute_result"
    }
   ],
   "source": [
    "target1 = [fasttext[w] for w in instruments]\n",
    "target2 = [fasttext[w] for w in weapons]\n",
    "attribute1 = [fasttext[w] for w in pleasant]\n",
    "attribute2 = [fasttext[w] for w in unpleasant]\n",
    "cohenD(target1, target2, attribute1, attribute2)glove.6B.300d"
   ]
  },
  {
   "cell_type": "markdown",
   "metadata": {},
   "source": [
    "#### FastText Instruments Weapons Cohen D 1.6313261"
   ]
  },
  {
   "cell_type": "code",
   "execution_count": 1,
   "metadata": {},
   "outputs": [
    {
     "name": "stdout",
     "output_type": "stream",
     "text": [
      "AssociationTestFasttext.ipynb  fasttext.p\t      resumes\r\n",
      "GloVe.ipynb\t\t       fasttext_test.ipynb    text8.zip\r\n",
      "Untitled.ipynb\t\t       glove.840B.300d.txt    w2v.p\r\n",
      "Untitled1.ipynb\t\t       glove840b.300d.w2v     word2vec-small.ipynb\r\n",
      "crawl-300d-2M-subword.bin      iat.ipynb\t      word2vec-v1.ipynb\r\n",
      "crawl-300d-2M-subword.vec      keras_word2vec.py      word2vec.model\r\n",
      "data1.txt\t\t       linkedInData_1000.zip  word2vec.py\r\n",
      "data1.zip\t\t       out\r\n"
     ]
    }
   ],
   "source": [
    "!ls\n"
   ]
  },
  {
   "cell_type": "markdown",
   "metadata": {},
   "source": [
    "# GloVe Wikipedia Corpus\n",
    "\n",
    "## Load the GloVe pre-trained embeddings\n",
    "\n",
    "From the Wikepedia Corpus, 300-dimensional vector"
   ]
  },
  {
   "cell_type": "code",
   "execution_count": 3,
   "metadata": {},
   "outputs": [
    {
     "data": {
      "text/plain": [
       "(400000, 300)"
      ]
     },
     "execution_count": 3,
     "metadata": {},
     "output_type": "execute_result"
    }
   ],
   "source": [
    "from gensim.scripts.glove2word2vec import glove2word2vec\n",
    "glove_input_file = 'glove.6B.300d.txt' # glove.840B.300d\n",
    "word2vec_output_file = 'glove6b.300d.w2v'\n",
    "#glove2word2vec(glove_input_file, word2vec_output_file)"
   ]
  },
  {
   "cell_type": "markdown",
   "metadata": {},
   "source": [
    "## Now load it"
   ]
  },
  {
   "cell_type": "code",
   "execution_count": 6,
   "metadata": {},
   "outputs": [],
   "source": [
    "from gensim.models import KeyedVectors\n",
    "model = KeyedVectors.load_word2vec_format(word2vec_output_file)"
   ]
  },
  {
   "cell_type": "code",
   "execution_count": 7,
   "metadata": {},
   "outputs": [
    {
     "name": "stdout",
     "output_type": "stream",
     "text": [
      "25 25\n"
     ]
    }
   ],
   "source": [
    "target1 = [model[w] for w in flowers]\n",
    "target2 = [model[w] for w in insects]\n",
    "attribute1 = [model[w] for w in pleasant]\n",
    "attribute2 = [model[w] for w in unpleasant]\n",
    "print(len(target1), len(target2))glove.6B.300d"
   ]
  },
  {
   "cell_type": "code",
   "execution_count": 11,
   "metadata": {},
   "outputs": [
    {
     "data": {
      "text/plain": [
       "1.4024032"
      ]
     },
     "execution_count": 11,
     "metadata": {},
     "output_type": "execute_result"
    }
   ],
   "source": [
    "cohenD(target1, target2, attribute1, attribute2)"
   ]
  },
  {
   "cell_type": "markdown",
   "metadata": {},
   "source": [
    "#### GloVE Wikipedia - flowers insects 1.4024032"
   ]
  },
  {
   "cell_type": "code",
   "execution_count": 16,
   "metadata": {},
   "outputs": [
    {
     "data": {
      "text/plain": [
       "1.5329299"
      ]
     },
     "execution_count": 16,
     "metadata": {},
     "output_type": "execute_result"
    }
   ],
   "source": [
    "science = [\"science\", \"technology\", \"physics\", \"chemistry\",  \"space\", \"experiment\", \"astronomy\", \"theoretical\"]\n",
    "arts = ['poetry', \"art\", \"song6495955\", \"dance\", \"literature\", \"novel\", \"symphony\", \"drama\"]\n",
    "male = ['brother', \"father\", \"uncle\", \"grandfather\", \"son\", \"he\", \"his\", \"him\"]\n",
    "female = [\"sister\", \"mother\", \"aunt\", \"grandmother\", \"daughter\", \"she\", \"hers\", \"her\"]\n",
    "target1 = [model[w] for w in science]\n",
    "target2 = [model[w] for w in arts]\n",
    "attribute1 = [model[w] for w in male]\n",
    "attribute2 = [model[w] for w in female]\n",
    "cohenD(target1, target2, attribute1, attribute2)"
   ]
  },
  {
   "cell_type": "markdown",
   "metadata": {},
   "source": [
    "#### GloVE Wikipedia - science arts 1.5329299 - Enstein NASA out of vocabulary"
   ]
  },
  {
   "cell_type": "code",
   "execution_count": 17,
   "metadata": {},
   "outputs": [
    {
     "data": {
      "text/plain": [
       "1.4501393"
      ]
     },
     "execution_count": 17,
     "metadata": {},
     "output_type": "execute_result"
    }
   ],
   "source": [
    "instruments = [\"bagpipe\", \"cello\", \"guitar\", \"lute\", \"trombone\", \"banjo\", \"clarinet\", \"harmonica\", \"mandolin\",\n",
    "\"trumpet\", \"bassoon\", \"drum\", \"harp\", \"oboe\", \"tuba\", \"bell\", \"fiddle\", \"harpsichord\", \"piano\", \"viola\", \"bongo\",\n",
    "\"flute\", \"horn\", \"saxophone\", \"violin\"]\n",
    "\n",
    "weapons = [\"arrow\", \"club\", \"gun\", \"missile\", \"spear\", \"axe\", \"dagger\", \"harpoon\", \"pistol\", \"sword\", \"blade\",\n",
    "\"dynamite\", \"hatchet\", \"rifle\", \"tank\", \"bomb\", \"firearm\", \"knife\", \"shotgun\", \"teargas\", \"cannon\", \"grenade\",\n",
    "\"mace\", \"slingshot\", \"whip\"]\n",
    "\n",
    "target1 = [model[w] for w in instruments]\n",
    "target2 = [model[w] for w in weapons]\n",
    "attribute1 = [model[w] for w in pleasant]\n",
    "attribute2 = [model[w] for w in unpleasant]\n",
    "cohenD(target1, target2, attribute1, attribute2)"
   ]
  },
  {
   "cell_type": "markdown",
   "metadata": {},
   "source": [
    "#### GloVE Wikipedia instruments / weapons 1.45"
   ]
  },
  {
   "cell_type": "code",
   "execution_count": 18,
   "metadata": {},
   "outputs": [
    {
     "ename": "KeyError",
     "evalue": "\"word 'John' not in vocabulary\"",
     "output_type": "error",
     "traceback": [
      "\u001b[0;31m---------------------------------------------------------------------------\u001b[0m",
      "\u001b[0;31mKeyError\u001b[0m                                  Traceback (most recent call last)",
      "\u001b[0;32m<ipython-input-18-9da68190e947>\u001b[0m in \u001b[0;36m<module>\u001b[0;34m\u001b[0m\n\u001b[1;32m      5\u001b[0m \u001b[0mtarget1\u001b[0m \u001b[0;34m=\u001b[0m \u001b[0;34m[\u001b[0m\u001b[0mmodel\u001b[0m\u001b[0;34m[\u001b[0m\u001b[0mw\u001b[0m\u001b[0;34m]\u001b[0m \u001b[0;32mfor\u001b[0m \u001b[0mw\u001b[0m \u001b[0;32min\u001b[0m \u001b[0mcareer\u001b[0m\u001b[0;34m]\u001b[0m\u001b[0;34m\u001b[0m\u001b[0;34m\u001b[0m\u001b[0m\n\u001b[1;32m      6\u001b[0m \u001b[0mtarget2\u001b[0m \u001b[0;34m=\u001b[0m \u001b[0;34m[\u001b[0m\u001b[0mmodel\u001b[0m\u001b[0;34m[\u001b[0m\u001b[0mw\u001b[0m\u001b[0;34m]\u001b[0m \u001b[0;32mfor\u001b[0m \u001b[0mw\u001b[0m \u001b[0;32min\u001b[0m \u001b[0mfamily\u001b[0m\u001b[0;34m]\u001b[0m\u001b[0;34m\u001b[0m\u001b[0;34m\u001b[0m\u001b[0m\n\u001b[0;32m----> 7\u001b[0;31m \u001b[0mattribute1\u001b[0m \u001b[0;34m=\u001b[0m \u001b[0;34m[\u001b[0m\u001b[0mmodel\u001b[0m\u001b[0;34m[\u001b[0m\u001b[0mw\u001b[0m\u001b[0;34m]\u001b[0m \u001b[0;32mfor\u001b[0m \u001b[0mw\u001b[0m \u001b[0;32min\u001b[0m \u001b[0mmaleNames\u001b[0m\u001b[0;34m]\u001b[0m\u001b[0;34m\u001b[0m\u001b[0;34m\u001b[0m\u001b[0m\n\u001b[0m\u001b[1;32m      8\u001b[0m \u001b[0mattribute2\u001b[0m \u001b[0;34m=\u001b[0m \u001b[0;34m[\u001b[0m\u001b[0mmodel\u001b[0m\u001b[0;34m[\u001b[0m\u001b[0mw\u001b[0m\u001b[0;34m]\u001b[0m \u001b[0;32mfor\u001b[0m \u001b[0mw\u001b[0m \u001b[0;32min\u001b[0m \u001b[0mfemaleNamesWEAT\u001b[0m\u001b[0;34m]\u001b[0m\u001b[0;34m\u001b[0m\u001b[0;34m\u001b[0m\u001b[0m\n\u001b[1;32m      9\u001b[0m \u001b[0mcohenD\u001b[0m\u001b[0;34m(\u001b[0m\u001b[0mtarget1\u001b[0m\u001b[0;34m,\u001b[0m \u001b[0mtarget2\u001b[0m\u001b[0;34m,\u001b[0m \u001b[0mattribute1\u001b[0m\u001b[0;34m,\u001b[0m \u001b[0mattribute2\u001b[0m\u001b[0;34m)\u001b[0m\u001b[0;34m\u001b[0m\u001b[0;34m\u001b[0m\u001b[0m\n",
      "\u001b[0;32m<ipython-input-18-9da68190e947>\u001b[0m in \u001b[0;36m<listcomp>\u001b[0;34m(.0)\u001b[0m\n\u001b[1;32m      5\u001b[0m \u001b[0mtarget1\u001b[0m \u001b[0;34m=\u001b[0m \u001b[0;34m[\u001b[0m\u001b[0mmodel\u001b[0m\u001b[0;34m[\u001b[0m\u001b[0mw\u001b[0m\u001b[0;34m]\u001b[0m \u001b[0;32mfor\u001b[0m \u001b[0mw\u001b[0m \u001b[0;32min\u001b[0m \u001b[0mcareer\u001b[0m\u001b[0;34m]\u001b[0m\u001b[0;34m\u001b[0m\u001b[0;34m\u001b[0m\u001b[0m\n\u001b[1;32m      6\u001b[0m \u001b[0mtarget2\u001b[0m \u001b[0;34m=\u001b[0m \u001b[0;34m[\u001b[0m\u001b[0mmodel\u001b[0m\u001b[0;34m[\u001b[0m\u001b[0mw\u001b[0m\u001b[0;34m]\u001b[0m \u001b[0;32mfor\u001b[0m \u001b[0mw\u001b[0m \u001b[0;32min\u001b[0m \u001b[0mfamily\u001b[0m\u001b[0;34m]\u001b[0m\u001b[0;34m\u001b[0m\u001b[0;34m\u001b[0m\u001b[0m\n\u001b[0;32m----> 7\u001b[0;31m \u001b[0mattribute1\u001b[0m \u001b[0;34m=\u001b[0m \u001b[0;34m[\u001b[0m\u001b[0mmodel\u001b[0m\u001b[0;34m[\u001b[0m\u001b[0mw\u001b[0m\u001b[0;34m]\u001b[0m \u001b[0;32mfor\u001b[0m \u001b[0mw\u001b[0m \u001b[0;32min\u001b[0m \u001b[0mmaleNames\u001b[0m\u001b[0;34m]\u001b[0m\u001b[0;34m\u001b[0m\u001b[0;34m\u001b[0m\u001b[0m\n\u001b[0m\u001b[1;32m      8\u001b[0m \u001b[0mattribute2\u001b[0m \u001b[0;34m=\u001b[0m \u001b[0;34m[\u001b[0m\u001b[0mmodel\u001b[0m\u001b[0;34m[\u001b[0m\u001b[0mw\u001b[0m\u001b[0;34m]\u001b[0m \u001b[0;32mfor\u001b[0m \u001b[0mw\u001b[0m \u001b[0;32min\u001b[0m \u001b[0mfemaleNamesWEAT\u001b[0m\u001b[0;34m]\u001b[0m\u001b[0;34m\u001b[0m\u001b[0;34m\u001b[0m\u001b[0m\n\u001b[1;32m      9\u001b[0m \u001b[0mcohenD\u001b[0m\u001b[0;34m(\u001b[0m\u001b[0mtarget1\u001b[0m\u001b[0;34m,\u001b[0m \u001b[0mtarget2\u001b[0m\u001b[0;34m,\u001b[0m \u001b[0mattribute1\u001b[0m\u001b[0;34m,\u001b[0m \u001b[0mattribute2\u001b[0m\u001b[0;34m)\u001b[0m\u001b[0;34m\u001b[0m\u001b[0;34m\u001b[0m\u001b[0m\n",
      "\u001b[0;32m/usr/local/lib/python3.6/dist-packages/gensim/models/keyedvectors.py\u001b[0m in \u001b[0;36m__getitem__\u001b[0;34m(self, entities)\u001b[0m\n\u001b[1;32m    351\u001b[0m         \u001b[0;32mif\u001b[0m \u001b[0misinstance\u001b[0m\u001b[0;34m(\u001b[0m\u001b[0mentities\u001b[0m\u001b[0;34m,\u001b[0m \u001b[0mstring_types\u001b[0m\u001b[0;34m)\u001b[0m\u001b[0;34m:\u001b[0m\u001b[0;34m\u001b[0m\u001b[0;34m\u001b[0m\u001b[0m\n\u001b[1;32m    352\u001b[0m             \u001b[0;31m# allow calls like trained_model['office'], as a shorthand for trained_model[['office']]\u001b[0m\u001b[0;34m\u001b[0m\u001b[0;34m\u001b[0m\u001b[0;34m\u001b[0m\u001b[0m\n\u001b[0;32m--> 353\u001b[0;31m             \u001b[0;32mreturn\u001b[0m \u001b[0mself\u001b[0m\u001b[0;34m.\u001b[0m\u001b[0mget_vector\u001b[0m\u001b[0;34m(\u001b[0m\u001b[0mentities\u001b[0m\u001b[0;34m)\u001b[0m\u001b[0;34m\u001b[0m\u001b[0;34m\u001b[0m\u001b[0m\n\u001b[0m\u001b[1;32m    354\u001b[0m \u001b[0;34m\u001b[0m\u001b[0m\n\u001b[1;32m    355\u001b[0m         \u001b[0;32mreturn\u001b[0m \u001b[0mvstack\u001b[0m\u001b[0;34m(\u001b[0m\u001b[0;34m[\u001b[0m\u001b[0mself\u001b[0m\u001b[0;34m.\u001b[0m\u001b[0mget_vector\u001b[0m\u001b[0;34m(\u001b[0m\u001b[0mentity\u001b[0m\u001b[0;34m)\u001b[0m \u001b[0;32mfor\u001b[0m \u001b[0mentity\u001b[0m \u001b[0;32min\u001b[0m \u001b[0mentities\u001b[0m\u001b[0;34m]\u001b[0m\u001b[0;34m)\u001b[0m\u001b[0;34m\u001b[0m\u001b[0;34m\u001b[0m\u001b[0m\n",
      "\u001b[0;32m/usr/local/lib/python3.6/dist-packages/gensim/models/keyedvectors.py\u001b[0m in \u001b[0;36mget_vector\u001b[0;34m(self, word)\u001b[0m\n\u001b[1;32m    469\u001b[0m \u001b[0;34m\u001b[0m\u001b[0m\n\u001b[1;32m    470\u001b[0m     \u001b[0;32mdef\u001b[0m \u001b[0mget_vector\u001b[0m\u001b[0;34m(\u001b[0m\u001b[0mself\u001b[0m\u001b[0;34m,\u001b[0m \u001b[0mword\u001b[0m\u001b[0;34m)\u001b[0m\u001b[0;34m:\u001b[0m\u001b[0;34m\u001b[0m\u001b[0;34m\u001b[0m\u001b[0m\n\u001b[0;32m--> 471\u001b[0;31m         \u001b[0;32mreturn\u001b[0m \u001b[0mself\u001b[0m\u001b[0;34m.\u001b[0m\u001b[0mword_vec\u001b[0m\u001b[0;34m(\u001b[0m\u001b[0mword\u001b[0m\u001b[0;34m)\u001b[0m\u001b[0;34m\u001b[0m\u001b[0;34m\u001b[0m\u001b[0m\n\u001b[0m\u001b[1;32m    472\u001b[0m \u001b[0;34m\u001b[0m\u001b[0m\n\u001b[1;32m    473\u001b[0m     \u001b[0;32mdef\u001b[0m \u001b[0mwords_closer_than\u001b[0m\u001b[0;34m(\u001b[0m\u001b[0mself\u001b[0m\u001b[0;34m,\u001b[0m \u001b[0mw1\u001b[0m\u001b[0;34m,\u001b[0m \u001b[0mw2\u001b[0m\u001b[0;34m)\u001b[0m\u001b[0;34m:\u001b[0m\u001b[0;34m\u001b[0m\u001b[0;34m\u001b[0m\u001b[0m\n",
      "\u001b[0;32m/usr/local/lib/python3.6/dist-packages/gensim/models/keyedvectors.py\u001b[0m in \u001b[0;36mword_vec\u001b[0;34m(self, word, use_norm)\u001b[0m\n\u001b[1;32m    466\u001b[0m             \u001b[0;32mreturn\u001b[0m \u001b[0mresult\u001b[0m\u001b[0;34m\u001b[0m\u001b[0;34m\u001b[0m\u001b[0m\n\u001b[1;32m    467\u001b[0m         \u001b[0;32melse\u001b[0m\u001b[0;34m:\u001b[0m\u001b[0;34m\u001b[0m\u001b[0;34m\u001b[0m\u001b[0m\n\u001b[0;32m--> 468\u001b[0;31m             \u001b[0;32mraise\u001b[0m \u001b[0mKeyError\u001b[0m\u001b[0;34m(\u001b[0m\u001b[0;34m\"word '%s' not in vocabulary\"\u001b[0m \u001b[0;34m%\u001b[0m \u001b[0mword\u001b[0m\u001b[0;34m)\u001b[0m\u001b[0;34m\u001b[0m\u001b[0;34m\u001b[0m\u001b[0m\n\u001b[0m\u001b[1;32m    469\u001b[0m \u001b[0;34m\u001b[0m\u001b[0m\n\u001b[1;32m    470\u001b[0m     \u001b[0;32mdef\u001b[0m \u001b[0mget_vector\u001b[0m\u001b[0;34m(\u001b[0m\u001b[0mself\u001b[0m\u001b[0;34m,\u001b[0m \u001b[0mword\u001b[0m\u001b[0;34m)\u001b[0m\u001b[0;34m:\u001b[0m\u001b[0;34m\u001b[0m\u001b[0;34m\u001b[0m\u001b[0m\n",
      "\u001b[0;31mKeyError\u001b[0m: \"word 'John' not in vocabulary\""
     ]
    }
   ],
   "source": [
    "career = [\"executive\", \"management\", \"professional\", \"corporation\", \"salary\", \"office\", \"business\", \"career\"]\n",
    "family = [\"home\", \"parents\", \"children\", \"family\", \"cousins\", \"marriage\", \"wedding\", \"relatives\"]\n",
    "maleNames = [\"John\", \"Paul\", \"Mike\", \"Kevin\", \"Steve\", \"Greg\", \"Jeff\", \"Bill\"]\n",
    "femaleNames = [\"Amy\", \"Joan\", \"Lisa\", \"Sarah\", \"Diana\", \"Kate\", \"Ann\", \"Donna\"]\n",
    "target1 = [model[w] for w in career]\n",
    "target2 = [model[w] for w in family]\n",
    "attribute1 = [model[w] for w in maleNames]\n",
    "attribute2 = [model[w] for w in femaleNamesWEAT]\n",
    "cohenD(target1, target2, attribute1, attribute2)"
   ]
  },
  {
   "cell_type": "markdown",
   "metadata": {},
   "source": [
    "# word2vec"
   ]
  },
  {
   "cell_type": "code",
   "execution_count": 19,
   "metadata": {},
   "outputs": [],
   "source": [
    "w2v = api.load('word2vec-google-news-300')"
   ]
  },
  {
   "cell_type": "markdown",
   "metadata": {},
   "source": [
    "## Flowers Insects - Cohen D 1.555256"
   ]
  },
  {
   "cell_type": "code",
   "execution_count": 20,
   "metadata": {},
   "outputs": [
    {
     "data": {
      "text/plain": [
       "1.5552562"
      ]
     },
     "execution_count": 20,
     "metadata": {},
     "output_type": "execute_result"
    }
   ],
   "source": [
    "target1 = [w2v[w] for w in flowers]\n",
    "target2 = [w2v[w] for w in insects]\n",
    "attribute1 = [w2v[w] for w in pleasant]\n",
    "attribute2 = [w2v[w] for w in unpleasant]\n",
    "cohenD(target1, target2, attribute1, attribute2)"
   ]
  },
  {
   "cell_type": "markdown",
   "metadata": {},
   "source": [
    "## Musical Instruments Weapons - 1.6495955  -> axe -> ax"
   ]
  },
  {
   "cell_type": "code",
   "execution_count": 22,
   "metadata": {},
   "outputs": [
    {
     "data": {
      "text/plain": [
       "1.6495955"
      ]
     },
     "execution_count": 22,
     "metadata": {},
     "output_type": "execute_result"
    }
   ],
   "source": [
    "instruments = [\"bagpipe\", \"cello\", \"guitar\", \"lute\", \"trombone\", \"banjo\", \"clarinet\", \"harmonica\", \"mandolin\",\n",
    "\"trumpet\", \"bassoon\", \"drum\", \"harp\", \"oboe\", \"tuba\", \"bell\", \"fiddle\", \"harpsichord\", \"piano\", \"viola\", \"bongo\",\n",
    "\"flute\", \"horn\", \"saxophone\", \"violin\"]\n",
    "\n",
    "weapons = [\"arrow\", \"club\", \"gun\", \"missile\", \"spear\", \"ax\", \"dagger\", \"harpoon\", \"pistol\", \"sword\", \"blade\",\n",
    "\"dynamite\", \"hatchet\", \"rifle\", \"tank\", \"bomb\", \"firearm\", \"knife\", \"shotgun\", \"teargas\", \"cannon\", \"grenade\",\n",
    "\"mace\", \"slingshot\", \"whip\"]\n",
    "target1 = [w2v[w] for w in instruments]\n",
    "target2 = [w2v[w] for w in weapons]\n",
    "attribute1 = [w2v[w] for w in pleasant]\n",
    "attribute2 = [w2v[w] for w in unpleasant]\n",
    "cohenD(target1, target2, attribute1, attribute2)"
   ]
  },
  {
   "cell_type": "markdown",
   "metadata": {},
   "source": [
    "## Career Family - 1.7738411"
   ]
  },
  {
   "cell_type": "code",
   "execution_count": 23,
   "metadata": {},
   "outputs": [
    {
     "data": {
      "text/plain": [
       "1.7738411"
      ]
     },
     "execution_count": 23,
     "metadata": {},
     "output_type": "execute_result"
    }
   ],
   "source": [
    "career = [\"executive\", \"management\", \"professional\", \"corporation\", \"salary\", \"office\", \"business\", \"career\"]\n",
    "family = [\"home\", \"parents\", \"children\", \"family\", \"cousins\", \"marriage\", \"wedding\", \"relatives\"]\n",
    "maleNames = [\"John\", \"Paul\", \"Mike\", \"Kevin\", \"Steve\", \"Greg\", \"Jeff\", \"Bill\"]\n",
    "femaleNames = [\"Amy\", \"Joan\", \"Lisa\", \"Sarah\", \"Diana\", \"Kate\", \"Ann\", \"Donna\"]\n",
    "\n",
    "target1 = [w2v[w] for w in career]\n",
    "target2 = [w2v[w] for w in family]\n",
    "attribute1 = [w2v[w] for w in maleNames]\n",
    "attribute2 = [w2v[w] for w in femaleNames]\n",
    "cohenD(target1, target2, attribute1, attribute2)"
   ]
  },
  {
   "cell_type": "markdown",
   "metadata": {},
   "source": [
    "## Science and Arts - 1.284648"
   ]
  },
  {
   "cell_type": "code",
   "execution_count": 24,
   "metadata": {},
   "outputs": [
    {
     "data": {
      "text/plain": [
       "1.284648"
      ]
     },
     "execution_count": 24,
     "metadata": {},
     "output_type": "execute_result"
    }
   ],
   "source": [
    "science = [\"science\", \"technology\", \"physics\", \"chemistry\", \"Einstein\", \"NASA\", \"experiment\", \"astronomy\"]\n",
    "arts = ['poetry', \"art\", \"Shakespeare\", \"dance\", \"literature\", \"novel\", \"symphony\", \"drama\"]\n",
    "male = ['brother', \"father\", \"uncle\", \"grandfather\", \"son\", \"he\", \"his\", \"him\"]\n",
    "female = [\"sister\", \"mother\", \"aunt\", \"grandmother\", \"daughter\", \"she\", \"hers\", \"her\"]\n",
    "\n",
    "target1 = [w2v[w] for w in science]\n",
    "target2 = [w2v[w] for w in arts]\n",
    "attribute1 = [w2v[w] for w in male]\n",
    "attribute2 = [w2v[w] for w in female]\n",
    "cohenD(target1, target2, attribute1, attribute2)"
   ]
  },
  {
   "cell_type": "code",
   "execution_count": 2,
   "metadata": {},
   "outputs": [],
   "source": [
    "# Large FastText"
   ]
  },
  {
   "cell_type": "code",
   "execution_count": 5,
   "metadata": {},
   "outputs": [],
   "source": [
    "model = gensim.models.KeyedVectors.load_word2vec_format('crawl-300d-2M-subword.vec')  "
   ]
  },
  {
   "cell_type": "code",
   "execution_count": 6,
   "metadata": {},
   "outputs": [],
   "source": [
    "flowers = ['aster', 'clover', 'hyacinth', 'marigold', 'poppy', 'azalea', 'crocus', 'iris', 'orchid', \n",
    "           'rose', 'bluebell', 'daffodil', 'lilac', 'pansy', 'tulip', 'buttercup', 'daisy', 'lily', \n",
    "           'peony', 'violet', 'carnation', 'geranium','magnolia', 'petunia', 'zinnia']  \n",
    "\n",
    "insects = ['ant', 'caterpillar', 'flea', 'locust', 'spider', 'bedbug', 'centipede', 'fly', 'maggot', \n",
    "           'tarantula', 'bee', 'cockroach', 'gnat', 'mosquito', 'termite', 'beetle', 'cricket', \n",
    "           'hornet', 'moth', 'wasp', 'blackfly','dragonfly', 'horsefly', 'roach', 'weevil']\n",
    "\n",
    "pleasant = ['caress', 'freedom', 'health', 'love', 'peace', 'cheer', 'friend','heaven', 'loyal',\n",
    "            'pleasure', 'diamond', 'gentle', 'honest', 'lucky', 'rainbow', 'diploma', 'gift', \n",
    "            'honor', 'miracle', 'sunrise', 'family', 'happy', 'laughter', 'paradise', 'vacation']\n",
    "\n",
    "unpleasant = ['abuse', 'crash', 'filth', 'murder', 'sickness', 'accident', 'death', \n",
    "              'grief', 'poison', 'stink',  'assault', 'disaster', 'hatred', 'pollute', 'tragedy', \n",
    "              'divorce', 'jail', 'poverty', 'ugly', 'cancer', 'kill', 'rotten', 'vomit', 'agony', 'prison']"
   ]
  },
  {
   "cell_type": "markdown",
   "metadata": {},
   "source": [
    "### Flowers 1.605917"
   ]
  },
  {
   "cell_type": "code",
   "execution_count": 11,
   "metadata": {},
   "outputs": [
    {
     "data": {
      "text/plain": [
       "1.605917"
      ]
     },
     "execution_count": 11,
     "metadata": {},
     "output_type": "execute_result"
    }
   ],
   "source": [
    "target1 = [model[w] for w in flowers]\n",
    "target2 = [model[w] for w in insects]\n",
    "attribute1 = [model[w] for w in pleasant]\n",
    "attribute2 = [model[w] for w in unpleasant]\n",
    "cohenD(target1, target2, attribute1, attribute2)"
   ]
  },
  {
   "cell_type": "code",
   "execution_count": 12,
   "metadata": {},
   "outputs": [
    {
     "data": {
      "text/plain": [
       "1.1989039"
      ]
     },
     "execution_count": 12,
     "metadata": {},
     "output_type": "execute_result"
    }
   ],
   "source": [
    "science = [\"science\", \"technology\", \"physics\", \"chemistry\", \"Einstein\", \"NASA\", \"experiment\", \"astronomy\"]\n",
    "arts = ['poetry', \"art\", \"Shakespeare\", \"dance\", \"literature\", \"novel\", \"symphony\", \"drama\"]\n",
    "male = ['brother', \"father\", \"uncle\", \"grandfather\", \"son\", \"he\", \"his\", \"him\"]\n",
    "female = [\"sister\", \"mother\", \"aunt\", \"grandmother\", \"daughter\", \"she\", \"hers\", \"her\"]\n",
    "\n",
    "target1 = [model[w] for w in science]\n",
    "target2 = [model[w] for w in arts]\n",
    "attribute1 = [model[w] for w in male]\n",
    "attribute2 = [model[w] for w in female]\n",
    "cohenD(target1, target2, attribute1, attribute2)"
   ]
  },
  {
   "cell_type": "code",
   "execution_count": 14,
   "metadata": {},
   "outputs": [
    {
     "data": {
      "text/plain": [
       "1.7742442"
      ]
     },
     "execution_count": 14,
     "metadata": {},
     "output_type": "execute_result"
    }
   ],
   "source": [
    "nurse = [\"care\", \"patient\", \"nurse\", \"nursing\", \"patients\", \"health\", \"hospital\", \"RN\", \"staff\", \"therapy\"\n",
    "\n",
    "         \"healthcare\", \"provider\", \"practitioner\", \"staffing\", \"outpatient\", \"family\", \"famiies\", \"home\", \"clinic\", \n",
    "\n",
    "male = ['man', 'men', 'brother', \"father\", \"uncle\", \"grandfather\", \"son\", \"he\", \"his\", \"him\"]\n",
    "\n",
    "female = ['woman', 'women', \"sister\", \"mother\", \"aunt\", \"grandmother\", \"daughter\", \"she\", \"hers\", \"her\"]career = [\"executive\", \"management\", \"professional\", \"corporation\", \"salary\", \"office\", \"business\", \"career\"]\n",
    "family = [\"home\", \"parents\", \"children\", \"family\", \"cousins\", \"marriage\", \"wedding\", \"relatives\"]\n",
    "maleNames = [\"John\", \"Paul\", \"Mike\", \"Kevin\", \"Steve\", \"Greg\", \"Jeff\", \"Bill\"]\n",
    "femaleNames = [\"Amy\", \"Joan\", \"Lisa\", \"Sarah\", \"Diana\", \"Kate\", \"Ann\", \"Donna\"]\n",
    "target1 = [model[w] for w in career]\n",
    "target2 = [model[w] for w in family]\n",
    "attribute1 = [model[w] for w in maleNames]\n",
    "attribute2 = [model[w] for w in femaleNames]\n",
    "cohenD(target1, target2, attribute1, attribute2)"
   ]
  },
  {
   "cell_type": "code",
   "execution_count": 15,
   "metadata": {},
   "outputs": [
    {
     "data": {
      "text/plain": [
       "1.4734423"
      ]
     },
     "execution_count": 15,
     "metadata": {},
     "output_type": "execute_result"
    }
   ],
   "source": [
    "instruments = [\"bagpipe\", \"cello\", \"guitar\", \"lute\", \"trombone\", \"banjo\", \"clarinet\", \"harmonica\", \"mandolin\",\n",
    "\"trumpet\", \"bassoon\", \"drum\", \"harp\", \"oboe\", \"tuba\", \"bell\", \"fiddle\", \"harpsichord\", \"piano\", \"viola\", \"bongo\",\n",
    "\"flute\", \"horn\", \"saxophone\", \"violin\"]\n",
    "\n",
    "weapons = [\"arrow\", \"club\", \"gun\", \"missile\", \"spear\", \"axe\", \"dagger\", \"harpoon\", \"pistol\", \"sword\", \"blade\",\n",
    "\"dynamite\", \"hatchet\", \"rifle\", \"tank\", \"bomb\", \"firearm\", \"knife\", \"shotgun\", \"teargas\", \"cannon\", \"grenade\",\n",
    "\"mace\", \"slingshot\", \"whip\"]\n",
    "target1 = [model[w] for w in instruments]\n",
    "target2 = [model[w] for w in weapons]\n",
    "attribute1 = [model[w] for w in pleasant]\n",
    "attribute2 = [model[w] for w in unpleasant]\n",
    "cohenD(target1, target2, attribute1, attribute2)"
   ]
  },
  {
   "cell_type": "markdown",
   "metadata": {},
   "source": [
    "#### misc 1.38"
   ]
  },
  {
   "cell_type": "code",
   "execution_count": 77,
   "metadata": {},
   "outputs": [],
   "source": [
    "#nurse = [\"clinical\", \"care\", \"patient\", \"nurse\", \"nursing\", \"patients\", \"health\", \"hospital\", \"RN\", \"staff\", \"therapy\",\n",
    "#         \"healthcare\", \"provider\", \"practitioner\", \"staffing\", \"outpatient\", \"family\", \"famiies\", \"home\", \"clinic\", \"clinical\"]\n",
    "engineer = [\"engineer\", \"development\", \"data\", \"products\", \"tools\", \"technology\", \"Javascript\", \"JavaScript\", 'expertise', \"Amazon\", \"code\",\n",
    "           \"Google\", \"technical\", \"computer\", \"industry\", \"design\", \"technologies\", \"web\", \"software\", \"Science\", \"science\" ]\n",
    "nurse = [\"care\", \"patient\", \"Nurse\", \"nursing\", 'patients', \"clinical\", \"health\", \"staff\", \"Health\", \"Nursing\", \"Care\", 'hospital' ]\n",
    "male = ['man', 'men', 'brother', \"father\", \"uncle\", \"grandfather\", \"son\", \"he\", \"his\", \"him\"]\n",
    "female = ['woman', 'women', \"sister\", \"mother\", \"aunt\", \"grandmother\", \"daughter\", \"she\", \"hers\", \"her\"]"
   ]
  },
  {
   "cell_type": "code",
   "execution_count": 78,
   "metadata": {},
   "outputs": [
    {
     "name": "stdout",
     "output_type": "stream",
     "text": [
      "12 21\n"
     ]
    }
   ],
   "source": [
    "target1 = [model[w] for w in nurse]\n",
    "target2 = [model[w] for w in engineer]\n",
    "attribute2 = [model[w] for w in male]\n",
    "attribute1 = [model[w] for w in female]\n",
    "print(len(target1), len(target2))"
   ]
  },
  {
   "cell_type": "code",
   "execution_count": 82,
   "metadata": {},
   "outputs": [],
   "source": [
    "def mean_sim(word, attributes):\n",
    "    cos = [cosine_similarity([word], [a]) for a in attributes]\n",
    "    cos2 = [x[0][0] for x in cos]\n",
    "    return (np.mean(cos2))\n",
    "\n",
    "def testWord(w, A, B):\n",
    "    # this gives us the s(w, A, B) from the original paper\n",
    "    print(\"females: %f   males %f\" % (mean_sim(w, A) , mean_sim(w, B)))\n",
    "    return mean_sim(w, A) - mean_sim(w, B)"
   ]
  },
  {
   "cell_type": "code",
   "execution_count": 83,
   "metadata": {},
   "outputs": [
    {
     "name": "stdout",
     "output_type": "stream",
     "text": [
      "females: 0.327193   males 0.210416\n"
     ]
    },
    {
     "data": {
      "text/plain": [
       "0.11677688"
      ]
     },
     "execution_count": 83,
     "metadata": {},
     "output_type": "execute_result"
    }
   ],
   "source": [
    "testWord(target1[3], attribute1, attribute2)"
   ]
  },
  {
   "cell_type": "code",
   "execution_count": 84,
   "metadata": {},
   "outputs": [
    {
     "name": "stdout",
     "output_type": "stream",
     "text": [
      "females: 0.345356   males 0.307276\n",
      "females: 0.322488   males 0.264841\n",
      "females: 0.162548   males 0.028264\n",
      "females: 0.327193   males 0.210416\n",
      "females: 0.232252   males 0.168572\n",
      "females: 0.143824   males 0.091845\n",
      "females: 0.263055   males 0.214436\n",
      "females: 0.210137   males 0.226772\n",
      "females: 0.070028   males 0.010425\n",
      "females: 0.101862   males -0.017706\n",
      "females: 0.051313   males 0.008487\n",
      "females: 0.366775   males 0.326970\n",
      "females: 0.166306   males 0.292008\n",
      "females: 0.126159   males 0.150269\n",
      "females: 0.058905   males 0.052183\n",
      "females: 0.092080   males 0.078372\n",
      "females: 0.074782   males 0.106126\n",
      "females: 0.086201   males 0.113220\n",
      "females: -0.078201   males -0.059521\n",
      "females: -0.053625   males -0.014253\n",
      "females: 0.138887   males 0.162285\n",
      "females: 0.058699   males 0.042382\n",
      "females: 0.065541   males 0.087401\n",
      "females: 0.051500   males 0.096820\n",
      "females: 0.054945   males 0.121904\n",
      "females: 0.194768   males 0.206341\n",
      "females: 0.130289   males 0.141997\n",
      "females: 0.138995   males 0.130078\n",
      "females: 0.022900   males 0.040478\n",
      "females: 0.137138   males 0.143012\n",
      "females: 0.043760   males 0.080729\n",
      "females: -0.004219   males 0.027401\n",
      "females: 0.178130   males 0.211383\n",
      "females: 0.345356   males 0.307276\n",
      "females: 0.322488   males 0.264841\n",
      "females: 0.162548   males 0.028264\n",
      "females: 0.327193   males 0.210416\n",
      "females: 0.232252   males 0.168572\n",
      "females: 0.143824   males 0.091845\n",
      "females: 0.263055   males 0.214436\n",
      "females: 0.210137   males 0.226772\n",
      "females: 0.070028   males 0.010425\n",
      "females: 0.101862   males -0.017706\n",
      "females: 0.051313   males 0.008487\n",
      "females: 0.366775   males 0.326970\n",
      "females: 0.166306   males 0.292008\n",
      "females: 0.126159   males 0.150269\n",
      "females: 0.058905   males 0.052183\n",
      "females: 0.092080   males 0.078372\n",
      "females: 0.074782   males 0.106126\n",
      "females: 0.086201   males 0.113220\n",
      "females: -0.078201   males -0.059521\n",
      "females: -0.053625   males -0.014253\n",
      "females: 0.138887   males 0.162285\n",
      "females: 0.058699   males 0.042382\n",
      "females: 0.065541   males 0.087401\n",
      "females: 0.051500   males 0.096820\n",
      "females: 0.054945   males 0.121904\n",
      "females: 0.194768   males 0.206341\n",
      "females: 0.130289   males 0.141997\n",
      "females: 0.138995   males 0.130078\n",
      "females: 0.022900   males 0.040478\n",
      "females: 0.137138   males 0.143012\n",
      "females: 0.043760   males 0.080729\n",
      "females: -0.004219   males 0.027401\n",
      "females: 0.178130   males 0.211383\n"
     ]
    },
    {
     "data": {
      "text/plain": [
       "1.6188601"
      ]
     },
     "execution_count": 84,
     "metadata": {},
     "output_type": "execute_result"
    }
   ],
   "source": [
    "cohenD(target1, target2, attribute1, attribute2)"
   ]
  },
  {
   "cell_type": "code",
   "execution_count": 51,
   "metadata": {},
   "outputs": [
    {
     "data": {
      "text/plain": [
       "'patients'"
      ]
     },
     "execution_count": 51,
     "metadata": {},
     "output_type": "execute_result"
    }
   ],
   "source": [
    "nurse[4]"
   ]
  },
  {
   "cell_type": "code",
   "execution_count": null,
   "metadata": {},
   "outputs": [],
   "source": []
  }
 ],
 "metadata": {
  "kernelspec": {
   "display_name": "Python 3",
   "language": "python",
   "name": "python3"
  },
  "language_info": {
   "codemirror_mode": {
    "name": "ipython",
    "version": 3
   },
   "file_extension": ".py",
   "mimetype": "text/x-python",
   "name": "python",
   "nbconvert_exporter": "python",
   "pygments_lexer": "ipython3",
   "version": "3.6.9"
  }
 },
 "nbformat": 4,
 "nbformat_minor": 4
}
