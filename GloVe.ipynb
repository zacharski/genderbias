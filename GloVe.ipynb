{
  "cells": [
    {
      "cell_type": "markdown",
      "metadata": {
        "id": "view-in-github",
        "colab_type": "text"
      },
      "source": [
        "<a href=\"https://colab.research.google.com/github/zacharski/genderbias/blob/master/GloVe.ipynb\" target=\"_parent\"><img src=\"https://colab.research.google.com/assets/colab-badge.svg\" alt=\"Open In Colab\"/></a>"
      ]
    },
    {
      "cell_type": "markdown",
      "metadata": {
        "id": "1pwsWzcNT5o8"
      },
      "source": [
        "# GloVe Word Embedding Association Test\n",
        "\n",
        "### First the imports\n",
        "\n",
        "#### part 1"
      ]
    },
    {
      "cell_type": "code",
      "execution_count": null,
      "metadata": {
        "id": "WjMmHXkQT5o9",
        "outputId": "f002183e-435e-4c82-c074-b3532d015400"
      },
      "outputs": [
        {
          "name": "stdout",
          "output_type": "stream",
          "text": [
            "3.8.1\n"
          ]
        }
      ],
      "source": [
        "import gensim\n",
        "from gensim.matutils import softcossim\n",
        "from gensim import corpora\n",
        "import gensim.downloader as api\n",
        "import numpy as np\n",
        "from sklearn.metrics.pairwise import cosine_similarity\n",
        "from gensim.utils import simple_preprocess\n",
        "print(gensim.__version__)"
      ]
    },
    {
      "cell_type": "markdown",
      "metadata": {
        "id": "NfMKxsc7T5o9"
      },
      "source": [
        "## Sample data - Insects and Flowers"
      ]
    },
    {
      "cell_type": "code",
      "execution_count": null,
      "metadata": {
        "id": "065RhY7BT5o-"
      },
      "outputs": [],
      "source": [
        "flowers = ['aster', 'clover', 'hyacinth', 'marigold', 'poppy', 'azalea', 'crocus', 'iris', 'orchid',\n",
        "           'rose', 'bluebell', 'daffodil', 'lilac', 'pansy', 'tulip', 'buttercup', 'daisy', 'lily',\n",
        "           'peony', 'violet', 'carnation', 'geranium','magnolia', 'petunia', 'zinnia']\n",
        "\n",
        "insects = ['ant', 'caterpillar', 'flea', 'locust', 'spider', 'bedbug', 'centipede', 'fly', 'maggot',\n",
        "           'tarantula', 'bee', 'cockroach', 'gnat', 'mosquito', 'termite', 'beetle', 'cricket',\n",
        "           'hornet', 'moth', 'wasp', 'blackfly','dragonfly', 'horsefly', 'roach', 'weevil']\n",
        "\n",
        "pleasant = ['caress', 'freedom', 'health', 'love', 'peace', 'cheer', 'friend','heaven', 'loyal',\n",
        "            'pleasure', 'diamond', 'gentle', 'honest', 'lucky', 'rainbow', 'diploma', 'gift',\n",
        "            'honor', 'miracle', 'sunrise', 'family', 'happy', 'laughter', 'paradise', 'vacation']\n",
        "\n",
        "unpleasant = ['abuse', 'crash', 'filth', 'murder', 'sickness', 'accident', 'death',\n",
        "              'grief', 'poison', 'stink',  'assault', 'disaster', 'hatred', 'pollute', 'tragedy',\n",
        "              'divorce', 'jail', 'poverty', 'ugly', 'cancer', 'kill', 'rotten', 'vomit', 'agony', 'prison']"
      ]
    },
    {
      "cell_type": "markdown",
      "metadata": {
        "id": "Ims_RyLbT5o-"
      },
      "source": [
        "## Load the GloVe pre-trained embeddings\n",
        "\n",
        "From the Common Crawl Corpus 2.2 million unique words, 300-dimensional vector"
      ]
    },
    {
      "cell_type": "code",
      "execution_count": null,
      "metadata": {
        "id": "FzzREUivT5o-"
      },
      "outputs": [],
      "source": [
        "from gensim.scripts.glove2word2vec import glove2word2vec\n",
        "glove_input_file = 'glove.840B.300d.txt' # glove.840B.300d\n",
        "word2vec_output_file = 'glove840b.300d.w2v'\n",
        "#glove2word2vec(glove_input_file, word2vec_output_file)"
      ]
    },
    {
      "cell_type": "markdown",
      "metadata": {
        "id": "SNqSaIQNT5o-"
      },
      "source": [
        "### now load it"
      ]
    },
    {
      "cell_type": "code",
      "execution_count": null,
      "metadata": {
        "id": "hosLWTAwT5o-"
      },
      "outputs": [],
      "source": [
        "from gensim.models import KeyedVectors\n",
        "model = KeyedVectors.load_word2vec_format(word2vec_output_file)"
      ]
    },
    {
      "cell_type": "markdown",
      "metadata": {
        "id": "AWEU7AbqT5o-"
      },
      "source": [
        "### now convert data to vectors"
      ]
    },
    {
      "cell_type": "code",
      "execution_count": null,
      "metadata": {
        "id": "U9ASIFOvT5o-",
        "outputId": "98e9e4e8-6d9b-4244-9d46-e0a8c43094f4"
      },
      "outputs": [
        {
          "name": "stdout",
          "output_type": "stream",
          "text": [
            "25 25\n"
          ]
        }
      ],
      "source": [
        "nurse = [\"care\", \"patient\", \"nurse\", \"nursing\", \"patients\", \"health\", \"hospital\", \"RN\", \"staff\", \"therapy\"\n",
        "\n",
        "         \"healthcare\", \"provider\", \"practitioner\", \"staffing\", \"outpatient\", \"family\", \"famiies\", \"home\", \"clinic\",\n",
        "\n",
        "male = ['man', 'men', 'brother', \"father\", \"uncle\", \"grandfather\", \"son\", \"he\", \"his\", \"him\"]\n",
        "\n",
        "female = ['woman', 'women', \"sister\", \"mother\", \"aunt\", \"grandmother\", \"daughter\", \"she\", \"hers\", \"her\"]"
      ]
    },
    {
      "cell_type": "markdown",
      "metadata": {
        "id": "d2WCD036T5o-"
      },
      "source": [
        "## Now, we need to convert the formulas from the paper"
      ]
    },
    {
      "cell_type": "code",
      "execution_count": null,
      "metadata": {
        "id": "oK0dYnCvT5o-",
        "outputId": "043e7357-f906-4c76-84f0-9ad088eda248"
      },
      "outputs": [
        {
          "name": "stdout",
          "output_type": "stream",
          "text": [
            "males: 0.307276   female 0.345356\n",
            "males: 0.264841   female 0.322488\n",
            "males: 0.296172   female 0.448483\n",
            "males: 0.210416   female 0.327193\n",
            "males: 0.168572   female 0.232252\n",
            "males: 0.214436   female 0.263055\n",
            "males: 0.326970   female 0.366775\n",
            "males: 0.001115   female 0.095459\n",
            "males: 0.226772   female 0.210137\n",
            "males: 0.151517   female 0.224009\n",
            "males: 0.127146   female 0.159022\n",
            "males: 0.101282   female 0.123084\n",
            "males: 0.185828   female 0.213213\n",
            "males: 0.027250   female 0.051616\n",
            "males: 0.060516   female 0.112707\n",
            "males: 0.452772   female 0.466966\n",
            "males: -0.102539   female -0.086660\n",
            "males: 0.378629   female 0.379099\n",
            "males: 0.226569   female 0.281714\n",
            "males: 0.091845   female 0.143824\n",
            "males: 0.292008   female 0.166306\n",
            "males: 0.150269   female 0.126159\n",
            "males: 0.052183   female 0.058905\n",
            "males: 0.078372   female 0.092080\n",
            "males: 0.106126   female 0.074782\n",
            "males: 0.113220   female 0.086201\n",
            "males: -0.059521   female -0.078201\n",
            "males: -0.014253   female -0.053625\n",
            "males: 0.162285   female 0.138887\n",
            "males: 0.042382   female 0.058699\n",
            "males: 0.087401   female 0.065541\n",
            "males: 0.096820   female 0.051500\n",
            "males: 0.121904   female 0.054945\n",
            "males: 0.206341   female 0.194768\n",
            "males: 0.141997   female 0.130289\n",
            "males: 0.130078   female 0.138995\n",
            "males: 0.040478   female 0.022900\n",
            "males: 0.143012   female 0.137138\n",
            "males: 0.080729   female 0.043760\n",
            "males: 0.027401   female -0.004219\n",
            "males: 0.211383   female 0.178130\n"
          ]
        },
        {
          "data": {
            "text/plain": [
              "-0.07319996"
            ]
          },
          "execution_count": 55,
          "metadata": {},
          "output_type": "execute_result"
        }
      ],
      "source": [
        "def mean_sim(word, attributes):\n",
        "    cos = [cosine_similarity([word], [a]) for a in attributes]\n",
        "    cos2 = [x[0][0] for x in cos]\n",
        "    return (np.mean(cos2))\n",
        "\n",
        "def testWord(w, A, B):\n",
        "    # this gives us the s(w, A, B) from the original paper\n",
        "    print(\"males: %f   female %f\" % (mean_sim(w, A) , mean_sim(w, B)))\n",
        "    return mean_sim(w, A) - mean_sim(w, B)\n",
        "\n",
        "def numerator(X, Y, A, B):\n",
        "    return np.mean([testWord(x, A, B) for x in X]) - np.mean([testWord(y, A, B) for y in Y])\n",
        "\n",
        "#[ x[0][0] for x in mean_sim(target1[0], attribute1) ]\n",
        "#testWord(target1[0], attribute1, attribute2)\n",
        "numerator(target1, target2, attribute1, attribute2)"
      ]
    },
    {
      "cell_type": "markdown",
      "metadata": {
        "id": "jvXgwn2aT5o-"
      },
      "source": [
        "### now the standard deviation from the paper"
      ]
    },
    {
      "cell_type": "code",
      "execution_count": null,
      "metadata": {
        "id": "6V_qZbRLT5o-",
        "outputId": "018c906e-7e89-4f19-f8fc-802723210932"
      },
      "outputs": [
        {
          "name": "stdout",
          "output_type": "stream",
          "text": [
            "0.051646188\n"
          ]
        }
      ],
      "source": [
        "def denominator(X, Y, A, B):\n",
        "    full = np.concatenate((X,Y))\n",
        "    foo = [testWord(x, A, B) for x in full]\n",
        "    return(np.std(foo))\n",
        "\n",
        "print(denominator(target1, target2, attribute1, attribute2) )\n"
      ]
    },
    {
      "cell_type": "markdown",
      "metadata": {
        "id": "ix5Y89i_T5o-"
      },
      "source": [
        "## finally the Cohen's D"
      ]
    },
    {
      "cell_type": "code",
      "execution_count": null,
      "metadata": {
        "id": "NHKj8iHeT5o_"
      },
      "outputs": [],
      "source": [
        "def cohenD(t1, t2, a1, a2):\n",
        "    return numerator(t1, t2, a1, a2) / denominator(t1, t2,  a1, a2)"
      ]
    },
    {
      "cell_type": "code",
      "execution_count": null,
      "metadata": {
        "id": "7iw7Y33-T5o_",
        "outputId": "eaf6a440-c5c8-485c-d075-03737219a642"
      },
      "outputs": [
        {
          "data": {
            "text/plain": [
              "1.383523"
            ]
          },
          "execution_count": 17,
          "metadata": {},
          "output_type": "execute_result"
        }
      ],
      "source": [
        "cohenD(target1, target2, attribute2, attribute1)"
      ]
    },
    {
      "cell_type": "markdown",
      "metadata": {
        "id": "cj4pJhNeT5o_"
      },
      "source": [
        "### Results\n",
        "GloVe results on flowers / insects Cohen's D of 1.5339754"
      ]
    },
    {
      "cell_type": "code",
      "execution_count": null,
      "metadata": {
        "id": "niOSCNK4T5o_",
        "outputId": "1b1a5bd3-3dd9-4655-8852-e189613c4c56"
      },
      "outputs": [
        {
          "data": {
            "text/plain": [
              "50"
            ]
          },
          "execution_count": 39,
          "metadata": {},
          "output_type": "execute_result"
        }
      ],
      "source": [
        "len(np.concatenate((attribute1, attribute2)))"
      ]
    },
    {
      "cell_type": "markdown",
      "metadata": {
        "id": "Q47PZdd9T5o_"
      },
      "source": [
        "# More sample data\n",
        "\n",
        "### WEAT Science Arts / male female"
      ]
    },
    {
      "cell_type": "code",
      "execution_count": null,
      "metadata": {
        "id": "HAlJgxdOT5o_"
      },
      "outputs": [],
      "source": [
        "science = [\"science\", \"technology\", \"physics\", \"chemistry\", \"Einstein\", \"NASA\", \"experiment\", \"astronomy\"]\n",
        "arts = ['poetry', \"art\", \"Shakespeare\", \"dance\", \"literature\", \"novel\", \"symphony\", \"drama\"]\n",
        "male = ['brother', \"father\", \"uncle\", \"grandfather\", \"son\", \"he\", \"his\", \"him\"]\n",
        "female = [\"sister\", \"mother\", \"aunt\", \"grandmother\", \"daughter\", \"she\", \"hers\", \"her\"]"
      ]
    },
    {
      "cell_type": "code",
      "execution_count": null,
      "metadata": {
        "id": "CThu4seYT5o_",
        "outputId": "bb5c7263-1fa7-4fdc-a16b-bc4d122285a1"
      },
      "outputs": [
        {
          "data": {
            "text/plain": [
              "1.278036"
            ]
          },
          "execution_count": 15,
          "metadata": {},
          "output_type": "execute_result"
        }
      ],
      "source": [
        "target1 = [model[w] for w in science]\n",
        "target2 = [model[w] for w in arts]\n",
        "attribute1 = [model[w] for w in male]\n",
        "attribute2 = [model[w] for w in female]\n",
        "cohenD(target1, target2, attribute1, attribute2)"
      ]
    },
    {
      "cell_type": "markdown",
      "metadata": {
        "id": "sAZkX5xjT5o_"
      },
      "source": [
        "#### Cohen D for Science Arts 1.278036\n",
        "\n",
        "### WEAT Career, Family / male, female\n"
      ]
    },
    {
      "cell_type": "code",
      "execution_count": null,
      "metadata": {
        "id": "5sqmBxgJT5o_"
      },
      "outputs": [],
      "source": [
        "career = [\"executive\", \"management\", \"professional\", \"corporation\", \"salary\", \"office\", \"business\", \"career\"]\n",
        "family = [\"home\", \"parents\", \"children\", \"family\", \"cousins\", \"marriage\", \"wedding\", \"relatives\"]\n",
        "maleNames = [\"John\", \"Paul\", \"Mike\", \"Kevin\", \"Steve\", \"Greg\", \"Jeff\", \"Bill\"]\n",
        "femaleNames = [\"Amy\", \"Joan\", \"Lisa\", \"Sarah\", \"Diana\", \"Kate\", \"Ann\", \"Donna\"]"
      ]
    },
    {
      "cell_type": "code",
      "execution_count": null,
      "metadata": {
        "id": "O2PkaIBFT5o_",
        "outputId": "5d00f824-2636-4081-bc14-421644f0e7b6"
      },
      "outputs": [
        {
          "data": {
            "text/plain": [
              "1.8607559"
            ]
          },
          "execution_count": 17,
          "metadata": {},
          "output_type": "execute_result"
        }
      ],
      "source": [
        "target1 = [model[w] for w in career]\n",
        "target2 = [model[w] for w in family]\n",
        "attribute1 = [model[w] for w in maleNames]\n",
        "attribute2 = [model[w] for w in femaleNamesWEAT]\n",
        "cohenD(target1, target2, attribute1, attribute2)"
      ]
    },
    {
      "cell_type": "markdown",
      "metadata": {
        "id": "eCZ9LiyET5o_"
      },
      "source": [
        "#### Cohen's D for Career Family / male female names  1.8607559\n",
        "\n",
        "### WEAT Instruments  Weapons / Pleasant Unpleasant"
      ]
    },
    {
      "cell_type": "code",
      "execution_count": null,
      "metadata": {
        "id": "Q01YguZiT5o_"
      },
      "outputs": [],
      "source": [
        "instruments = [\"bagpipe\", \"cello\", \"guitar\", \"lute\", \"trombone\", \"banjo\", \"clarinet\", \"harmonica\", \"mandolin\",\n",
        "\"trumpet\", \"bassoon\", \"drum\", \"harp\", \"oboe\", \"tuba\", \"bell\", \"fiddle\", \"harpsichord\", \"piano\", \"viola\", \"bongo\",\n",
        "\"flute\", \"horn\", \"saxophone\", \"violin\"]\n",
        "\n",
        "weapons = [\"arrow\", \"club\", \"gun\", \"missile\", \"spear\", \"axe\", \"dagger\", \"harpoon\", \"pistol\", \"sword\", \"blade\",\n",
        "\"dynamite\", \"hatchet\", \"rifle\", \"tank\", \"bomb\", \"firearm\", \"knife\", \"shotgun\", \"teargas\", \"cannon\", \"grenade\",\n",
        "\"mace\", \"slingshot\", \"whip\"]"
      ]
    },
    {
      "cell_type": "code",
      "execution_count": null,
      "metadata": {
        "id": "klNEauU4T5o_",
        "outputId": "59c8cd8f-bd8b-458a-bf03-ee6dd0e2ef3a"
      },
      "outputs": [
        {
          "data": {
            "text/plain": [
              "1.5495626"
            ]
          },
          "execution_count": 18,
          "metadata": {},
          "output_type": "execute_result"
        }
      ],
      "source": [
        "glove.6B.300d"
      ]
    },
    {
      "cell_type": "markdown",
      "metadata": {
        "id": "5BWhMSY4T5o_"
      },
      "source": [
        "#### Cohen D for instruments  weapons  1.5495626"
      ]
    },
    {
      "cell_type": "markdown",
      "metadata": {
        "id": "n4-skJViT5o_"
      },
      "source": [
        "##  Profession Related"
      ]
    },
    {
      "cell_type": "code",
      "execution_count": null,
      "metadata": {
        "id": "HIvukh2bT5o_"
      },
      "outputs": [],
      "source": [
        "professions1 = ['programmer', 'engineer', 'scientist', \"developer\", \"mechanic\", \"Javascript\", \"Google\", \"aerospace\" ]\n",
        "professions2 = ['nurse', 'teacher', 'librarian', \"clerk\", \"volunteer\", \"community\", \"bookkeeper\", \"cashier\" ]\n",
        "#MAN\tHE\tMEN\tHIM\tBOY\tHIS\n",
        "male = ['man', \"men\", \"his\", 'he', 'him']\n",
        "female = ['woman', \"women\", 'she', 'her', \"hers\"]"
      ]
    },
    {
      "cell_type": "markdown",
      "metadata": {
        "id": "_dRQt29NT5o_"
      },
      "source": [
        "model['Javascript']"
      ]
    },
    {
      "cell_type": "code",
      "execution_count": null,
      "metadata": {
        "id": "CJ06_ZyzT5o_",
        "outputId": "b577490f-35b8-4fd8-ab53-275da3632ac6"
      },
      "outputs": [
        {
          "data": {
            "text/plain": [
              "1.5763113"
            ]
          },
          "execution_count": 27,
          "metadata": {},
          "output_type": "execute_result"
        }
      ],
      "source": [
        "nurse = [\"care\", \"patient\", \"nurse\", \"nursing\", \"patients\", \"health\", \"hospital\", \"RN\", \"staff\", \"therapy\"\n",
        "\n",
        "         \"healthcare\", \"provider\", \"practitioner\", \"staffing\", \"outpatient\", \"family\", \"famiies\", \"home\", \"clinic\",\n",
        "\n",
        "male = ['man', 'men', 'brother', \"father\", \"uncle\", \"grandfather\", \"son\", \"he\", \"his\", \"him\"]\n",
        "\n",
        "female = ['woman', 'women', \"sister\", \"mother\", \"aunt\", \"grandmother\", \"daughter\", \"she\", \"hers\", \"her\"]target1 = [model[w] for w in professions1]\n",
        "target2 = [model[w] for w in professions2]\n",
        "attribute1 = [model[w] for w in male]\n",
        "attribute2 = [model[w] for w in female]\n",
        "cohenD(target1, target2, attribute1, attribute2)"
      ]
    },
    {
      "cell_type": "markdown",
      "metadata": {
        "id": "5j2obKtkT5pA"
      },
      "source": [
        "## Profession Related cohen 1.57\n",
        "next try to find the most common words in resumes\n"
      ]
    },
    {
      "cell_type": "code",
      "execution_count": null,
      "metadata": {
        "id": "bhIpf0RtT5pA"
      },
      "outputs": [],
      "source": []
    },
    {
      "cell_type": "markdown",
      "metadata": {
        "id": "RfiQ0IQQT5pA"
      },
      "source": [
        "# FastText  Model"
      ]
    },
    {
      "cell_type": "code",
      "execution_count": null,
      "metadata": {
        "id": "0Xfewe3YT5pA"
      },
      "outputs": [],
      "source": [
        "glove.6B.300dimport pickle\n",
        "fasttext = pickle.load(open(\"fasttext.p\", 'rb'))"
      ]
    },
    {
      "cell_type": "markdown",
      "metadata": {
        "id": "mI8e6v23T5pA"
      },
      "source": [
        "## Flowers Insects"
      ]
    },
    {
      "cell_type": "code",
      "execution_count": null,
      "metadata": {
        "id": "fwcQVv7XT5pA"
      },
      "outputs": [],
      "source": [
        "flowers = ['aster', 'clover', 'hyacinth', 'marigold', 'poppy', 'azalea', 'crocus', 'iris', 'orchid',\n",
        "           'rose', 'bluebell', 'daffodil', 'lilac', 'pansy', 'tulip', 'buttercup', 'daisy', 'lily',\n",
        "           'peony', 'violet', 'carnation', 'geranium','magnolia', 'petunia', 'zinnia']\n",
        "\n",
        "insects = ['ant', 'caterpillar', 'flea', 'locust', 'spider', 'bedbug', 'centipede', 'fly', 'maggot',\n",
        "           'tarantula', 'bee', 'cockroach', 'gnat', 'mosquito', 'termite', 'beetle', 'cricket',\n",
        "           'hornet', 'moth', 'wasp', 'blackfly','dragonfly', 'horsefly', 'roach', 'weevil']\n",
        "\n",
        "pleasant = ['caress', 'freedom', 'health', 'love', 'peace', 'cheer', 'friend','heaven', 'loyal',\n",
        "            'pleasure', 'diamond', 'gentle', 'honest', 'lucky', 'rainbow', 'diploma', 'gift',\n",
        "            'honor', 'miracle', 'sunrise', 'family', 'happy', 'laughter', 'paradise', 'vacation']\n",
        "\n",
        "unpleasant = ['abuse', 'crash', 'filth', 'murder', 'sickness', 'accident', 'death',\n",
        "              'grief', 'poison', 'stink',  'assault', 'disaster', 'hatred', 'pollute', 'tragedy',\n",
        "              'divorce', 'jail', 'poverty', 'ugly', 'cancer', 'kill', 'rotten', 'vomit', 'agony', 'prison']"
      ]
    },
    {
      "cell_type": "code",
      "execution_count": null,
      "metadata": {
        "id": "VrRl7HM4T5pH",
        "outputId": "b629e183-95fd-485a-e94c-beec437ed597"
      },
      "outputs": [
        {
          "data": {
            "text/plain": [
              "1.5240668"
            ]
          },
          "execution_count": 30,
          "metadata": {},
          "output_type": "execute_result"
        }
      ],
      "source": [
        "target1 = [fasttext[w] for w in flowers]\n",
        "target2 = [fasttext[w] for w in insects]\n",
        "attribute1 = [fasttext[w] for w in pleasant]\n",
        "attribute2 = [fasttext[w] for w in unpleasant]\n",
        "cohenD(target1, target2, attribute1, attribute2)"
      ]
    },
    {
      "cell_type": "markdown",
      "metadata": {
        "id": "CpRVf5eST5pH"
      },
      "source": [
        "#### FastText Flower Insect Cohen D 1,5240668\n",
        "\n",
        "## Science Arts"
      ]
    },
    {
      "cell_type": "code",
      "execution_count": null,
      "metadata": {
        "id": "in2vLP0YT5pH"
      },
      "outputs": [],
      "source": [
        "science = [\"science\", \"technology\", \"physics\", \"chemistry\", \"Einstein\", \"NASA\", \"experiment\", \"astronomy\"]\n",
        "arts = ['poetry', \"art\", \"Shakespeare\", \"dance\", \"literature\", \"novel\", \"symphony\", \"drama\"]\n",
        "male = ['brother', \"father\", \"uncle\", \"grandfather\", \"son\", \"he\", \"his\", \"him\"]\n",
        "female = [\"sister\", \"mother\", \"aunt\", \"grandmother\", \"daughter\", \"she\", \"hers\", \"her\"]"
      ]
    },
    {
      "cell_type": "code",
      "execution_count": null,
      "metadata": {
        "id": "hh1y9BsBT5pH",
        "outputId": "ee1621b2-5700-4e4c-e4c1-d57994ddcced"
      },
      "outputs": [
        {
          "data": {
            "text/plain": [
              "1.008413"
            ]
          },
          "execution_count": 32,
          "metadata": {},
          "output_type": "execute_result"
        }
      ],
      "source": [
        "target1 = [fasttext[w] for w in science]\n",
        "target2 = [fasttext[w] for w in arts]\n",
        "attribute1 = [fasttext[w] for w in male]\n",
        "attribute2 = [fasttext[w] for w in female]\n",
        "cohenD(target1, target2, attribute1, attribute2)"
      ]
    },
    {
      "cell_type": "markdown",
      "metadata": {
        "id": "T2LofTz5T5pH"
      },
      "source": [
        "#### FastText Science Arts Cohen D 1.008413\n",
        "\n",
        "## Career Family"
      ]
    },
    {
      "cell_type": "code",
      "execution_count": null,
      "metadata": {
        "id": "t0IJ9e6IT5pI",
        "outputId": "4df3d1c7-c094-488d-d84c-3e0cd83c0797"
      },
      "outputs": [
        {
          "data": {
            "text/plain": [
              "1.7501867"
            ]
          },
          "execution_count": 34,
          "metadata": {},
          "output_type": "execute_result"
        }
      ],
      "source": [
        "glove.6B.300dtarget1 = [fasttext[w] for w in career]\n",
        "target2 = [fasttext[w] for w in family]\n",
        "attribute1 = [fasttext[w] for w in maleNames]\n",
        "attribute2 = [fasttext[w] for w in femaleNames]\n",
        "cohenD(target1, target2, attribute1, attribute2)"
      ]
    },
    {
      "cell_type": "markdown",
      "metadata": {
        "id": "v_bAjxQOT5pI"
      },
      "source": [
        "#### FastText Career Family  Cohen D 1.7501867\n",
        "\n",
        "## Instruments Weapons"
      ]
    },
    {
      "cell_type": "code",
      "execution_count": null,
      "metadata": {
        "id": "P-JSNZVfT5pI",
        "outputId": "aff69337-68ed-4dc4-e202-68ffcd070ee8"
      },
      "outputs": [
        {
          "data": {
            "text/plain": [
              "1.6313261"
            ]
          },
          "execution_count": 35,
          "metadata": {},
          "output_type": "execute_result"
        }
      ],
      "source": [
        "target1 = [fasttext[w] for w in instruments]\n",
        "target2 = [fasttext[w] for w in weapons]\n",
        "attribute1 = [fasttext[w] for w in pleasant]\n",
        "attribute2 = [fasttext[w] for w in unpleasant]\n",
        "cohenD(target1, target2, attribute1, attribute2)glove.6B.300d"
      ]
    },
    {
      "cell_type": "markdown",
      "metadata": {
        "id": "LvenZu1eT5pI"
      },
      "source": [
        "#### FastText Instruments Weapons Cohen D 1.6313261"
      ]
    },
    {
      "cell_type": "code",
      "execution_count": null,
      "metadata": {
        "id": "qox3ZpEKT5pI",
        "outputId": "d4c185d4-9850-4781-d91e-ef8313d7cfa8"
      },
      "outputs": [
        {
          "name": "stdout",
          "output_type": "stream",
          "text": [
            "AssociationTestFasttext.ipynb  fasttext.p\t      resumes\r\n",
            "GloVe.ipynb\t\t       fasttext_test.ipynb    text8.zip\r\n",
            "Untitled.ipynb\t\t       glove.840B.300d.txt    w2v.p\r\n",
            "Untitled1.ipynb\t\t       glove840b.300d.w2v     word2vec-small.ipynb\r\n",
            "crawl-300d-2M-subword.bin      iat.ipynb\t      word2vec-v1.ipynb\r\n",
            "crawl-300d-2M-subword.vec      keras_word2vec.py      word2vec.model\r\n",
            "data1.txt\t\t       linkedInData_1000.zip  word2vec.py\r\n",
            "data1.zip\t\t       out\r\n"
          ]
        }
      ],
      "source": [
        "!ls\n"
      ]
    },
    {
      "cell_type": "markdown",
      "metadata": {
        "id": "35JeHSyVT5pI"
      },
      "source": [
        "# GloVe Wikipedia Corpus\n",
        "\n",
        "## Load the GloVe pre-trained embeddings\n",
        "\n",
        "From the Wikepedia Corpus, 300-dimensional vector"
      ]
    },
    {
      "cell_type": "code",
      "execution_count": null,
      "metadata": {
        "id": "RW_nAy9OT5pI",
        "outputId": "a49dc770-8632-401d-9915-c946e1bf2f76"
      },
      "outputs": [
        {
          "data": {
            "text/plain": [
              "(400000, 300)"
            ]
          },
          "execution_count": 3,
          "metadata": {},
          "output_type": "execute_result"
        }
      ],
      "source": [
        "from gensim.scripts.glove2word2vec import glove2word2vec\n",
        "glove_input_file = 'glove.6B.300d.txt' # glove.840B.300d\n",
        "word2vec_output_file = 'glove6b.300d.w2v'\n",
        "#glove2word2vec(glove_input_file, word2vec_output_file)"
      ]
    },
    {
      "cell_type": "markdown",
      "metadata": {
        "id": "Ez_y0dAbT5pI"
      },
      "source": [
        "## Now load it"
      ]
    },
    {
      "cell_type": "code",
      "execution_count": null,
      "metadata": {
        "id": "JEf7RXGvT5pI"
      },
      "outputs": [],
      "source": [
        "from gensim.models import KeyedVectors\n",
        "model = KeyedVectors.load_word2vec_format(word2vec_output_file)"
      ]
    },
    {
      "cell_type": "code",
      "execution_count": null,
      "metadata": {
        "id": "aQYgvMNAT5pI",
        "outputId": "d1f79b81-8c20-48ae-c559-ef50c244335d"
      },
      "outputs": [
        {
          "name": "stdout",
          "output_type": "stream",
          "text": [
            "25 25\n"
          ]
        }
      ],
      "source": [
        "target1 = [model[w] for w in flowers]\n",
        "target2 = [model[w] for w in insects]\n",
        "attribute1 = [model[w] for w in pleasant]\n",
        "attribute2 = [model[w] for w in unpleasant]\n",
        "print(len(target1), len(target2))glove.6B.300d"
      ]
    },
    {
      "cell_type": "code",
      "execution_count": null,
      "metadata": {
        "id": "1B04DGWhT5pI",
        "outputId": "dabc8868-d22e-430d-c290-e4f77c010b41"
      },
      "outputs": [
        {
          "data": {
            "text/plain": [
              "1.4024032"
            ]
          },
          "execution_count": 11,
          "metadata": {},
          "output_type": "execute_result"
        }
      ],
      "source": [
        "cohenD(target1, target2, attribute1, attribute2)"
      ]
    },
    {
      "cell_type": "markdown",
      "metadata": {
        "id": "HJi_EQGST5pI"
      },
      "source": [
        "#### GloVE Wikipedia - flowers insects 1.4024032"
      ]
    },
    {
      "cell_type": "code",
      "execution_count": null,
      "metadata": {
        "id": "GjBgQj66T5pI",
        "outputId": "cea875b1-7a10-4f04-83f3-33d45f88f775"
      },
      "outputs": [
        {
          "data": {
            "text/plain": [
              "1.5329299"
            ]
          },
          "execution_count": 16,
          "metadata": {},
          "output_type": "execute_result"
        }
      ],
      "source": [
        "science = [\"science\", \"technology\", \"physics\", \"chemistry\",  \"space\", \"experiment\", \"astronomy\", \"theoretical\"]\n",
        "arts = ['poetry', \"art\", \"song6495955\", \"dance\", \"literature\", \"novel\", \"symphony\", \"drama\"]\n",
        "male = ['brother', \"father\", \"uncle\", \"grandfather\", \"son\", \"he\", \"his\", \"him\"]\n",
        "female = [\"sister\", \"mother\", \"aunt\", \"grandmother\", \"daughter\", \"she\", \"hers\", \"her\"]\n",
        "target1 = [model[w] for w in science]\n",
        "target2 = [model[w] for w in arts]\n",
        "attribute1 = [model[w] for w in male]\n",
        "attribute2 = [model[w] for w in female]\n",
        "cohenD(target1, target2, attribute1, attribute2)"
      ]
    },
    {
      "cell_type": "markdown",
      "metadata": {
        "id": "xUTsHbfLT5pI"
      },
      "source": [
        "#### GloVE Wikipedia - science arts 1.5329299 - Enstein NASA out of vocabulary"
      ]
    },
    {
      "cell_type": "code",
      "execution_count": null,
      "metadata": {
        "id": "auV4i9t_T5pI",
        "outputId": "14796b1c-d04c-449c-89b3-3ca6c453221d"
      },
      "outputs": [
        {
          "data": {
            "text/plain": [
              "1.4501393"
            ]
          },
          "execution_count": 17,
          "metadata": {},
          "output_type": "execute_result"
        }
      ],
      "source": [
        "instruments = [\"bagpipe\", \"cello\", \"guitar\", \"lute\", \"trombone\", \"banjo\", \"clarinet\", \"harmonica\", \"mandolin\",\n",
        "\"trumpet\", \"bassoon\", \"drum\", \"harp\", \"oboe\", \"tuba\", \"bell\", \"fiddle\", \"harpsichord\", \"piano\", \"viola\", \"bongo\",\n",
        "\"flute\", \"horn\", \"saxophone\", \"violin\"]\n",
        "\n",
        "weapons = [\"arrow\", \"club\", \"gun\", \"missile\", \"spear\", \"axe\", \"dagger\", \"harpoon\", \"pistol\", \"sword\", \"blade\",\n",
        "\"dynamite\", \"hatchet\", \"rifle\", \"tank\", \"bomb\", \"firearm\", \"knife\", \"shotgun\", \"teargas\", \"cannon\", \"grenade\",\n",
        "\"mace\", \"slingshot\", \"whip\"]\n",
        "\n",
        "target1 = [model[w] for w in instruments]\n",
        "target2 = [model[w] for w in weapons]\n",
        "attribute1 = [model[w] for w in pleasant]\n",
        "attribute2 = [model[w] for w in unpleasant]\n",
        "cohenD(target1, target2, attribute1, attribute2)"
      ]
    },
    {
      "cell_type": "markdown",
      "metadata": {
        "id": "bRV4GBdbT5pI"
      },
      "source": [
        "#### GloVE Wikipedia instruments / weapons 1.45"
      ]
    },
    {
      "cell_type": "code",
      "execution_count": null,
      "metadata": {
        "id": "_iXMS7g5T5pI",
        "outputId": "6ab36b27-2ff1-48df-ccdc-eb456ef5b932"
      },
      "outputs": [
        {
          "ename": "KeyError",
          "evalue": "\"word 'John' not in vocabulary\"",
          "output_type": "error",
          "traceback": [
            "\u001b[0;31m---------------------------------------------------------------------------\u001b[0m",
            "\u001b[0;31mKeyError\u001b[0m                                  Traceback (most recent call last)",
            "\u001b[0;32m<ipython-input-18-9da68190e947>\u001b[0m in \u001b[0;36m<module>\u001b[0;34m\u001b[0m\n\u001b[1;32m      5\u001b[0m \u001b[0mtarget1\u001b[0m \u001b[0;34m=\u001b[0m \u001b[0;34m[\u001b[0m\u001b[0mmodel\u001b[0m\u001b[0;34m[\u001b[0m\u001b[0mw\u001b[0m\u001b[0;34m]\u001b[0m \u001b[0;32mfor\u001b[0m \u001b[0mw\u001b[0m \u001b[0;32min\u001b[0m \u001b[0mcareer\u001b[0m\u001b[0;34m]\u001b[0m\u001b[0;34m\u001b[0m\u001b[0;34m\u001b[0m\u001b[0m\n\u001b[1;32m      6\u001b[0m \u001b[0mtarget2\u001b[0m \u001b[0;34m=\u001b[0m \u001b[0;34m[\u001b[0m\u001b[0mmodel\u001b[0m\u001b[0;34m[\u001b[0m\u001b[0mw\u001b[0m\u001b[0;34m]\u001b[0m \u001b[0;32mfor\u001b[0m \u001b[0mw\u001b[0m \u001b[0;32min\u001b[0m \u001b[0mfamily\u001b[0m\u001b[0;34m]\u001b[0m\u001b[0;34m\u001b[0m\u001b[0;34m\u001b[0m\u001b[0m\n\u001b[0;32m----> 7\u001b[0;31m \u001b[0mattribute1\u001b[0m \u001b[0;34m=\u001b[0m \u001b[0;34m[\u001b[0m\u001b[0mmodel\u001b[0m\u001b[0;34m[\u001b[0m\u001b[0mw\u001b[0m\u001b[0;34m]\u001b[0m \u001b[0;32mfor\u001b[0m \u001b[0mw\u001b[0m \u001b[0;32min\u001b[0m \u001b[0mmaleNames\u001b[0m\u001b[0;34m]\u001b[0m\u001b[0;34m\u001b[0m\u001b[0;34m\u001b[0m\u001b[0m\n\u001b[0m\u001b[1;32m      8\u001b[0m \u001b[0mattribute2\u001b[0m \u001b[0;34m=\u001b[0m \u001b[0;34m[\u001b[0m\u001b[0mmodel\u001b[0m\u001b[0;34m[\u001b[0m\u001b[0mw\u001b[0m\u001b[0;34m]\u001b[0m \u001b[0;32mfor\u001b[0m \u001b[0mw\u001b[0m \u001b[0;32min\u001b[0m \u001b[0mfemaleNamesWEAT\u001b[0m\u001b[0;34m]\u001b[0m\u001b[0;34m\u001b[0m\u001b[0;34m\u001b[0m\u001b[0m\n\u001b[1;32m      9\u001b[0m \u001b[0mcohenD\u001b[0m\u001b[0;34m(\u001b[0m\u001b[0mtarget1\u001b[0m\u001b[0;34m,\u001b[0m \u001b[0mtarget2\u001b[0m\u001b[0;34m,\u001b[0m \u001b[0mattribute1\u001b[0m\u001b[0;34m,\u001b[0m \u001b[0mattribute2\u001b[0m\u001b[0;34m)\u001b[0m\u001b[0;34m\u001b[0m\u001b[0;34m\u001b[0m\u001b[0m\n",
            "\u001b[0;32m<ipython-input-18-9da68190e947>\u001b[0m in \u001b[0;36m<listcomp>\u001b[0;34m(.0)\u001b[0m\n\u001b[1;32m      5\u001b[0m \u001b[0mtarget1\u001b[0m \u001b[0;34m=\u001b[0m \u001b[0;34m[\u001b[0m\u001b[0mmodel\u001b[0m\u001b[0;34m[\u001b[0m\u001b[0mw\u001b[0m\u001b[0;34m]\u001b[0m \u001b[0;32mfor\u001b[0m \u001b[0mw\u001b[0m \u001b[0;32min\u001b[0m \u001b[0mcareer\u001b[0m\u001b[0;34m]\u001b[0m\u001b[0;34m\u001b[0m\u001b[0;34m\u001b[0m\u001b[0m\n\u001b[1;32m      6\u001b[0m \u001b[0mtarget2\u001b[0m \u001b[0;34m=\u001b[0m \u001b[0;34m[\u001b[0m\u001b[0mmodel\u001b[0m\u001b[0;34m[\u001b[0m\u001b[0mw\u001b[0m\u001b[0;34m]\u001b[0m \u001b[0;32mfor\u001b[0m \u001b[0mw\u001b[0m \u001b[0;32min\u001b[0m \u001b[0mfamily\u001b[0m\u001b[0;34m]\u001b[0m\u001b[0;34m\u001b[0m\u001b[0;34m\u001b[0m\u001b[0m\n\u001b[0;32m----> 7\u001b[0;31m \u001b[0mattribute1\u001b[0m \u001b[0;34m=\u001b[0m \u001b[0;34m[\u001b[0m\u001b[0mmodel\u001b[0m\u001b[0;34m[\u001b[0m\u001b[0mw\u001b[0m\u001b[0;34m]\u001b[0m \u001b[0;32mfor\u001b[0m \u001b[0mw\u001b[0m \u001b[0;32min\u001b[0m \u001b[0mmaleNames\u001b[0m\u001b[0;34m]\u001b[0m\u001b[0;34m\u001b[0m\u001b[0;34m\u001b[0m\u001b[0m\n\u001b[0m\u001b[1;32m      8\u001b[0m \u001b[0mattribute2\u001b[0m \u001b[0;34m=\u001b[0m \u001b[0;34m[\u001b[0m\u001b[0mmodel\u001b[0m\u001b[0;34m[\u001b[0m\u001b[0mw\u001b[0m\u001b[0;34m]\u001b[0m \u001b[0;32mfor\u001b[0m \u001b[0mw\u001b[0m \u001b[0;32min\u001b[0m \u001b[0mfemaleNamesWEAT\u001b[0m\u001b[0;34m]\u001b[0m\u001b[0;34m\u001b[0m\u001b[0;34m\u001b[0m\u001b[0m\n\u001b[1;32m      9\u001b[0m \u001b[0mcohenD\u001b[0m\u001b[0;34m(\u001b[0m\u001b[0mtarget1\u001b[0m\u001b[0;34m,\u001b[0m \u001b[0mtarget2\u001b[0m\u001b[0;34m,\u001b[0m \u001b[0mattribute1\u001b[0m\u001b[0;34m,\u001b[0m \u001b[0mattribute2\u001b[0m\u001b[0;34m)\u001b[0m\u001b[0;34m\u001b[0m\u001b[0;34m\u001b[0m\u001b[0m\n",
            "\u001b[0;32m/usr/local/lib/python3.6/dist-packages/gensim/models/keyedvectors.py\u001b[0m in \u001b[0;36m__getitem__\u001b[0;34m(self, entities)\u001b[0m\n\u001b[1;32m    351\u001b[0m         \u001b[0;32mif\u001b[0m \u001b[0misinstance\u001b[0m\u001b[0;34m(\u001b[0m\u001b[0mentities\u001b[0m\u001b[0;34m,\u001b[0m \u001b[0mstring_types\u001b[0m\u001b[0;34m)\u001b[0m\u001b[0;34m:\u001b[0m\u001b[0;34m\u001b[0m\u001b[0;34m\u001b[0m\u001b[0m\n\u001b[1;32m    352\u001b[0m             \u001b[0;31m# allow calls like trained_model['office'], as a shorthand for trained_model[['office']]\u001b[0m\u001b[0;34m\u001b[0m\u001b[0;34m\u001b[0m\u001b[0;34m\u001b[0m\u001b[0m\n\u001b[0;32m--> 353\u001b[0;31m             \u001b[0;32mreturn\u001b[0m \u001b[0mself\u001b[0m\u001b[0;34m.\u001b[0m\u001b[0mget_vector\u001b[0m\u001b[0;34m(\u001b[0m\u001b[0mentities\u001b[0m\u001b[0;34m)\u001b[0m\u001b[0;34m\u001b[0m\u001b[0;34m\u001b[0m\u001b[0m\n\u001b[0m\u001b[1;32m    354\u001b[0m \u001b[0;34m\u001b[0m\u001b[0m\n\u001b[1;32m    355\u001b[0m         \u001b[0;32mreturn\u001b[0m \u001b[0mvstack\u001b[0m\u001b[0;34m(\u001b[0m\u001b[0;34m[\u001b[0m\u001b[0mself\u001b[0m\u001b[0;34m.\u001b[0m\u001b[0mget_vector\u001b[0m\u001b[0;34m(\u001b[0m\u001b[0mentity\u001b[0m\u001b[0;34m)\u001b[0m \u001b[0;32mfor\u001b[0m \u001b[0mentity\u001b[0m \u001b[0;32min\u001b[0m \u001b[0mentities\u001b[0m\u001b[0;34m]\u001b[0m\u001b[0;34m)\u001b[0m\u001b[0;34m\u001b[0m\u001b[0;34m\u001b[0m\u001b[0m\n",
            "\u001b[0;32m/usr/local/lib/python3.6/dist-packages/gensim/models/keyedvectors.py\u001b[0m in \u001b[0;36mget_vector\u001b[0;34m(self, word)\u001b[0m\n\u001b[1;32m    469\u001b[0m \u001b[0;34m\u001b[0m\u001b[0m\n\u001b[1;32m    470\u001b[0m     \u001b[0;32mdef\u001b[0m \u001b[0mget_vector\u001b[0m\u001b[0;34m(\u001b[0m\u001b[0mself\u001b[0m\u001b[0;34m,\u001b[0m \u001b[0mword\u001b[0m\u001b[0;34m)\u001b[0m\u001b[0;34m:\u001b[0m\u001b[0;34m\u001b[0m\u001b[0;34m\u001b[0m\u001b[0m\n\u001b[0;32m--> 471\u001b[0;31m         \u001b[0;32mreturn\u001b[0m \u001b[0mself\u001b[0m\u001b[0;34m.\u001b[0m\u001b[0mword_vec\u001b[0m\u001b[0;34m(\u001b[0m\u001b[0mword\u001b[0m\u001b[0;34m)\u001b[0m\u001b[0;34m\u001b[0m\u001b[0;34m\u001b[0m\u001b[0m\n\u001b[0m\u001b[1;32m    472\u001b[0m \u001b[0;34m\u001b[0m\u001b[0m\n\u001b[1;32m    473\u001b[0m     \u001b[0;32mdef\u001b[0m \u001b[0mwords_closer_than\u001b[0m\u001b[0;34m(\u001b[0m\u001b[0mself\u001b[0m\u001b[0;34m,\u001b[0m \u001b[0mw1\u001b[0m\u001b[0;34m,\u001b[0m \u001b[0mw2\u001b[0m\u001b[0;34m)\u001b[0m\u001b[0;34m:\u001b[0m\u001b[0;34m\u001b[0m\u001b[0;34m\u001b[0m\u001b[0m\n",
            "\u001b[0;32m/usr/local/lib/python3.6/dist-packages/gensim/models/keyedvectors.py\u001b[0m in \u001b[0;36mword_vec\u001b[0;34m(self, word, use_norm)\u001b[0m\n\u001b[1;32m    466\u001b[0m             \u001b[0;32mreturn\u001b[0m \u001b[0mresult\u001b[0m\u001b[0;34m\u001b[0m\u001b[0;34m\u001b[0m\u001b[0m\n\u001b[1;32m    467\u001b[0m         \u001b[0;32melse\u001b[0m\u001b[0;34m:\u001b[0m\u001b[0;34m\u001b[0m\u001b[0;34m\u001b[0m\u001b[0m\n\u001b[0;32m--> 468\u001b[0;31m             \u001b[0;32mraise\u001b[0m \u001b[0mKeyError\u001b[0m\u001b[0;34m(\u001b[0m\u001b[0;34m\"word '%s' not in vocabulary\"\u001b[0m \u001b[0;34m%\u001b[0m \u001b[0mword\u001b[0m\u001b[0;34m)\u001b[0m\u001b[0;34m\u001b[0m\u001b[0;34m\u001b[0m\u001b[0m\n\u001b[0m\u001b[1;32m    469\u001b[0m \u001b[0;34m\u001b[0m\u001b[0m\n\u001b[1;32m    470\u001b[0m     \u001b[0;32mdef\u001b[0m \u001b[0mget_vector\u001b[0m\u001b[0;34m(\u001b[0m\u001b[0mself\u001b[0m\u001b[0;34m,\u001b[0m \u001b[0mword\u001b[0m\u001b[0;34m)\u001b[0m\u001b[0;34m:\u001b[0m\u001b[0;34m\u001b[0m\u001b[0;34m\u001b[0m\u001b[0m\n",
            "\u001b[0;31mKeyError\u001b[0m: \"word 'John' not in vocabulary\""
          ]
        }
      ],
      "source": [
        "career = [\"executive\", \"management\", \"professional\", \"corporation\", \"salary\", \"office\", \"business\", \"career\"]\n",
        "family = [\"home\", \"parents\", \"children\", \"family\", \"cousins\", \"marriage\", \"wedding\", \"relatives\"]\n",
        "maleNames = [\"John\", \"Paul\", \"Mike\", \"Kevin\", \"Steve\", \"Greg\", \"Jeff\", \"Bill\"]\n",
        "femaleNames = [\"Amy\", \"Joan\", \"Lisa\", \"Sarah\", \"Diana\", \"Kate\", \"Ann\", \"Donna\"]\n",
        "target1 = [model[w] for w in career]\n",
        "target2 = [model[w] for w in family]\n",
        "attribute1 = [model[w] for w in maleNames]\n",
        "attribute2 = [model[w] for w in femaleNamesWEAT]\n",
        "cohenD(target1, target2, attribute1, attribute2)"
      ]
    },
    {
      "cell_type": "markdown",
      "metadata": {
        "id": "haemkHVrT5pJ"
      },
      "source": [
        "# word2vec"
      ]
    },
    {
      "cell_type": "code",
      "execution_count": null,
      "metadata": {
        "id": "wyXngsQUT5pJ"
      },
      "outputs": [],
      "source": [
        "w2v = api.load('word2vec-google-news-300')"
      ]
    },
    {
      "cell_type": "markdown",
      "metadata": {
        "id": "DQ7mfU-fT5pJ"
      },
      "source": [
        "## Flowers Insects - Cohen D 1.555256"
      ]
    },
    {
      "cell_type": "code",
      "execution_count": null,
      "metadata": {
        "id": "zkfisT2jT5pJ",
        "outputId": "17cbd7ff-567d-4909-b9a0-c256a701a94a"
      },
      "outputs": [
        {
          "data": {
            "text/plain": [
              "1.5552562"
            ]
          },
          "execution_count": 20,
          "metadata": {},
          "output_type": "execute_result"
        }
      ],
      "source": [
        "target1 = [w2v[w] for w in flowers]\n",
        "target2 = [w2v[w] for w in insects]\n",
        "attribute1 = [w2v[w] for w in pleasant]\n",
        "attribute2 = [w2v[w] for w in unpleasant]\n",
        "cohenD(target1, target2, attribute1, attribute2)"
      ]
    },
    {
      "cell_type": "markdown",
      "metadata": {
        "id": "NBcG5MEbT5pJ"
      },
      "source": [
        "## Musical Instruments Weapons - 1.6495955  -> axe -> ax"
      ]
    },
    {
      "cell_type": "code",
      "execution_count": null,
      "metadata": {
        "id": "ByfUbWq2T5pJ",
        "outputId": "3df13f99-c22c-48fa-a271-3cd532b03594"
      },
      "outputs": [
        {
          "data": {
            "text/plain": [
              "1.6495955"
            ]
          },
          "execution_count": 22,
          "metadata": {},
          "output_type": "execute_result"
        }
      ],
      "source": [
        "instruments = [\"bagpipe\", \"cello\", \"guitar\", \"lute\", \"trombone\", \"banjo\", \"clarinet\", \"harmonica\", \"mandolin\",\n",
        "\"trumpet\", \"bassoon\", \"drum\", \"harp\", \"oboe\", \"tuba\", \"bell\", \"fiddle\", \"harpsichord\", \"piano\", \"viola\", \"bongo\",\n",
        "\"flute\", \"horn\", \"saxophone\", \"violin\"]\n",
        "\n",
        "weapons = [\"arrow\", \"club\", \"gun\", \"missile\", \"spear\", \"ax\", \"dagger\", \"harpoon\", \"pistol\", \"sword\", \"blade\",\n",
        "\"dynamite\", \"hatchet\", \"rifle\", \"tank\", \"bomb\", \"firearm\", \"knife\", \"shotgun\", \"teargas\", \"cannon\", \"grenade\",\n",
        "\"mace\", \"slingshot\", \"whip\"]\n",
        "target1 = [w2v[w] for w in instruments]\n",
        "target2 = [w2v[w] for w in weapons]\n",
        "attribute1 = [w2v[w] for w in pleasant]\n",
        "attribute2 = [w2v[w] for w in unpleasant]\n",
        "cohenD(target1, target2, attribute1, attribute2)"
      ]
    },
    {
      "cell_type": "markdown",
      "metadata": {
        "id": "mA99LNoHT5pJ"
      },
      "source": [
        "## Career Family - 1.7738411"
      ]
    },
    {
      "cell_type": "code",
      "execution_count": null,
      "metadata": {
        "id": "Ky_YzfYPT5pJ",
        "outputId": "4fc9a3d2-db16-4dff-a0f1-1562d79a9535"
      },
      "outputs": [
        {
          "data": {
            "text/plain": [
              "1.7738411"
            ]
          },
          "execution_count": 23,
          "metadata": {},
          "output_type": "execute_result"
        }
      ],
      "source": [
        "career = [\"executive\", \"management\", \"professional\", \"corporation\", \"salary\", \"office\", \"business\", \"career\"]\n",
        "family = [\"home\", \"parents\", \"children\", \"family\", \"cousins\", \"marriage\", \"wedding\", \"relatives\"]\n",
        "maleNames = [\"John\", \"Paul\", \"Mike\", \"Kevin\", \"Steve\", \"Greg\", \"Jeff\", \"Bill\"]\n",
        "femaleNames = [\"Amy\", \"Joan\", \"Lisa\", \"Sarah\", \"Diana\", \"Kate\", \"Ann\", \"Donna\"]\n",
        "\n",
        "target1 = [w2v[w] for w in career]\n",
        "target2 = [w2v[w] for w in family]\n",
        "attribute1 = [w2v[w] for w in maleNames]\n",
        "attribute2 = [w2v[w] for w in femaleNames]\n",
        "cohenD(target1, target2, attribute1, attribute2)"
      ]
    },
    {
      "cell_type": "markdown",
      "metadata": {
        "id": "0i8CjzZ9T5pJ"
      },
      "source": [
        "## Science and Arts - 1.284648"
      ]
    },
    {
      "cell_type": "code",
      "execution_count": null,
      "metadata": {
        "id": "ZJXrZWV2T5pJ",
        "outputId": "a9e48732-3f13-44e4-cb41-f6796e40bef1"
      },
      "outputs": [
        {
          "data": {
            "text/plain": [
              "1.284648"
            ]
          },
          "execution_count": 24,
          "metadata": {},
          "output_type": "execute_result"
        }
      ],
      "source": [
        "science = [\"science\", \"technology\", \"physics\", \"chemistry\", \"Einstein\", \"NASA\", \"experiment\", \"astronomy\"]\n",
        "arts = ['poetry', \"art\", \"Shakespeare\", \"dance\", \"literature\", \"novel\", \"symphony\", \"drama\"]\n",
        "male = ['brother', \"father\", \"uncle\", \"grandfather\", \"son\", \"he\", \"his\", \"him\"]\n",
        "female = [\"sister\", \"mother\", \"aunt\", \"grandmother\", \"daughter\", \"she\", \"hers\", \"her\"]\n",
        "\n",
        "target1 = [w2v[w] for w in science]\n",
        "target2 = [w2v[w] for w in arts]\n",
        "attribute1 = [w2v[w] for w in male]\n",
        "attribute2 = [w2v[w] for w in female]\n",
        "cohenD(target1, target2, attribute1, attribute2)"
      ]
    },
    {
      "cell_type": "code",
      "execution_count": null,
      "metadata": {
        "id": "Vytm3_Z6T5pJ"
      },
      "outputs": [],
      "source": [
        "# Large FastText"
      ]
    },
    {
      "cell_type": "code",
      "execution_count": null,
      "metadata": {
        "id": "jKy2apMuT5pJ"
      },
      "outputs": [],
      "source": [
        "model = gensim.models.KeyedVectors.load_word2vec_format('crawl-300d-2M-subword.vec')"
      ]
    },
    {
      "cell_type": "code",
      "execution_count": null,
      "metadata": {
        "id": "rd_xF_ZlT5pJ"
      },
      "outputs": [],
      "source": [
        "flowers = ['aster', 'clover', 'hyacinth', 'marigold', 'poppy', 'azalea', 'crocus', 'iris', 'orchid',\n",
        "           'rose', 'bluebell', 'daffodil', 'lilac', 'pansy', 'tulip', 'buttercup', 'daisy', 'lily',\n",
        "           'peony', 'violet', 'carnation', 'geranium','magnolia', 'petunia', 'zinnia']\n",
        "\n",
        "insects = ['ant', 'caterpillar', 'flea', 'locust', 'spider', 'bedbug', 'centipede', 'fly', 'maggot',\n",
        "           'tarantula', 'bee', 'cockroach', 'gnat', 'mosquito', 'termite', 'beetle', 'cricket',\n",
        "           'hornet', 'moth', 'wasp', 'blackfly','dragonfly', 'horsefly', 'roach', 'weevil']\n",
        "\n",
        "pleasant = ['caress', 'freedom', 'health', 'love', 'peace', 'cheer', 'friend','heaven', 'loyal',\n",
        "            'pleasure', 'diamond', 'gentle', 'honest', 'lucky', 'rainbow', 'diploma', 'gift',\n",
        "            'honor', 'miracle', 'sunrise', 'family', 'happy', 'laughter', 'paradise', 'vacation']\n",
        "\n",
        "unpleasant = ['abuse', 'crash', 'filth', 'murder', 'sickness', 'accident', 'death',\n",
        "              'grief', 'poison', 'stink',  'assault', 'disaster', 'hatred', 'pollute', 'tragedy',\n",
        "              'divorce', 'jail', 'poverty', 'ugly', 'cancer', 'kill', 'rotten', 'vomit', 'agony', 'prison']"
      ]
    },
    {
      "cell_type": "markdown",
      "metadata": {
        "id": "rwFtqUs5T5pJ"
      },
      "source": [
        "### Flowers 1.605917"
      ]
    },
    {
      "cell_type": "code",
      "execution_count": null,
      "metadata": {
        "id": "d2t3ekd5T5pJ",
        "outputId": "ab13cbd0-638c-4b0d-cb4d-0052d8a625b4"
      },
      "outputs": [
        {
          "data": {
            "text/plain": [
              "1.605917"
            ]
          },
          "execution_count": 11,
          "metadata": {},
          "output_type": "execute_result"
        }
      ],
      "source": [
        "target1 = [model[w] for w in flowers]\n",
        "target2 = [model[w] for w in insects]\n",
        "attribute1 = [model[w] for w in pleasant]\n",
        "attribute2 = [model[w] for w in unpleasant]\n",
        "cohenD(target1, target2, attribute1, attribute2)"
      ]
    },
    {
      "cell_type": "code",
      "execution_count": null,
      "metadata": {
        "id": "O_Ui2axBT5pJ",
        "outputId": "7335b9b5-c74c-40e5-d6aa-39dc6d44b258"
      },
      "outputs": [
        {
          "data": {
            "text/plain": [
              "1.1989039"
            ]
          },
          "execution_count": 12,
          "metadata": {},
          "output_type": "execute_result"
        }
      ],
      "source": [
        "science = [\"science\", \"technology\", \"physics\", \"chemistry\", \"Einstein\", \"NASA\", \"experiment\", \"astronomy\"]\n",
        "arts = ['poetry', \"art\", \"Shakespeare\", \"dance\", \"literature\", \"novel\", \"symphony\", \"drama\"]\n",
        "male = ['brother', \"father\", \"uncle\", \"grandfather\", \"son\", \"he\", \"his\", \"him\"]\n",
        "female = [\"sister\", \"mother\", \"aunt\", \"grandmother\", \"daughter\", \"she\", \"hers\", \"her\"]\n",
        "\n",
        "target1 = [model[w] for w in science]\n",
        "target2 = [model[w] for w in arts]\n",
        "attribute1 = [model[w] for w in male]\n",
        "attribute2 = [model[w] for w in female]\n",
        "cohenD(target1, target2, attribute1, attribute2)"
      ]
    },
    {
      "cell_type": "code",
      "execution_count": null,
      "metadata": {
        "id": "zYQWSAEAT5pJ",
        "outputId": "c9102a88-32ce-498b-f9e9-8105f1de5699"
      },
      "outputs": [
        {
          "data": {
            "text/plain": [
              "1.7742442"
            ]
          },
          "execution_count": 14,
          "metadata": {},
          "output_type": "execute_result"
        }
      ],
      "source": [
        "nurse = [\"care\", \"patient\", \"nurse\", \"nursing\", \"patients\", \"health\", \"hospital\", \"RN\", \"staff\", \"therapy\"\n",
        "\n",
        "         \"healthcare\", \"provider\", \"practitioner\", \"staffing\", \"outpatient\", \"family\", \"famiies\", \"home\", \"clinic\",\n",
        "\n",
        "male = ['man', 'men', 'brother', \"father\", \"uncle\", \"grandfather\", \"son\", \"he\", \"his\", \"him\"]\n",
        "\n",
        "female = ['woman', 'women', \"sister\", \"mother\", \"aunt\", \"grandmother\", \"daughter\", \"she\", \"hers\", \"her\"]career = [\"executive\", \"management\", \"professional\", \"corporation\", \"salary\", \"office\", \"business\", \"career\"]\n",
        "family = [\"home\", \"parents\", \"children\", \"family\", \"cousins\", \"marriage\", \"wedding\", \"relatives\"]\n",
        "maleNames = [\"John\", \"Paul\", \"Mike\", \"Kevin\", \"Steve\", \"Greg\", \"Jeff\", \"Bill\"]\n",
        "femaleNames = [\"Amy\", \"Joan\", \"Lisa\", \"Sarah\", \"Diana\", \"Kate\", \"Ann\", \"Donna\"]\n",
        "target1 = [model[w] for w in career]\n",
        "target2 = [model[w] for w in family]\n",
        "attribute1 = [model[w] for w in maleNames]\n",
        "attribute2 = [model[w] for w in femaleNames]\n",
        "cohenD(target1, target2, attribute1, attribute2)"
      ]
    },
    {
      "cell_type": "code",
      "execution_count": null,
      "metadata": {
        "id": "B_vpV82nT5pJ",
        "outputId": "a7853d39-3136-4028-ace7-1a7f44adc626"
      },
      "outputs": [
        {
          "data": {
            "text/plain": [
              "1.4734423"
            ]
          },
          "execution_count": 15,
          "metadata": {},
          "output_type": "execute_result"
        }
      ],
      "source": [
        "instruments = [\"bagpipe\", \"cello\", \"guitar\", \"lute\", \"trombone\", \"banjo\", \"clarinet\", \"harmonica\", \"mandolin\",\n",
        "\"trumpet\", \"bassoon\", \"drum\", \"harp\", \"oboe\", \"tuba\", \"bell\", \"fiddle\", \"harpsichord\", \"piano\", \"viola\", \"bongo\",\n",
        "\"flute\", \"horn\", \"saxophone\", \"violin\"]\n",
        "\n",
        "weapons = [\"arrow\", \"club\", \"gun\", \"missile\", \"spear\", \"axe\", \"dagger\", \"harpoon\", \"pistol\", \"sword\", \"blade\",\n",
        "\"dynamite\", \"hatchet\", \"rifle\", \"tank\", \"bomb\", \"firearm\", \"knife\", \"shotgun\", \"teargas\", \"cannon\", \"grenade\",\n",
        "\"mace\", \"slingshot\", \"whip\"]\n",
        "target1 = [model[w] for w in instruments]\n",
        "target2 = [model[w] for w in weapons]\n",
        "attribute1 = [model[w] for w in pleasant]\n",
        "attribute2 = [model[w] for w in unpleasant]\n",
        "cohenD(target1, target2, attribute1, attribute2)"
      ]
    },
    {
      "cell_type": "markdown",
      "metadata": {
        "id": "QgLUYRRjT5pK"
      },
      "source": [
        "#### misc 1.38"
      ]
    },
    {
      "cell_type": "code",
      "execution_count": null,
      "metadata": {
        "id": "k9J1ODxaT5pK"
      },
      "outputs": [],
      "source": [
        "#nurse = [\"clinical\", \"care\", \"patient\", \"nurse\", \"nursing\", \"patients\", \"health\", \"hospital\", \"RN\", \"staff\", \"therapy\",\n",
        "#         \"healthcare\", \"provider\", \"practitioner\", \"staffing\", \"outpatient\", \"family\", \"famiies\", \"home\", \"clinic\", \"clinical\"]\n",
        "engineer = [\"engineer\", \"development\", \"data\", \"products\", \"tools\", \"technology\", \"Javascript\", \"JavaScript\", 'expertise', \"Amazon\", \"code\",\n",
        "           \"Google\", \"technical\", \"computer\", \"industry\", \"design\", \"technologies\", \"web\", \"software\", \"Science\", \"science\" ]\n",
        "nurse = [\"care\", \"patient\", \"Nurse\", \"nursing\", 'patients', \"clinical\", \"health\", \"staff\", \"Health\", \"Nursing\", \"Care\", 'hospital' ]\n",
        "male = ['man', 'men', 'brother', \"father\", \"uncle\", \"grandfather\", \"son\", \"he\", \"his\", \"him\"]\n",
        "female = ['woman', 'women', \"sister\", \"mother\", \"aunt\", \"grandmother\", \"daughter\", \"she\", \"hers\", \"her\"]"
      ]
    },
    {
      "cell_type": "code",
      "execution_count": null,
      "metadata": {
        "id": "6X4R8TAwT5pK",
        "outputId": "4f3613a1-6c88-4732-b22f-fe1e3efb920f"
      },
      "outputs": [
        {
          "name": "stdout",
          "output_type": "stream",
          "text": [
            "12 21\n"
          ]
        }
      ],
      "source": [
        "target1 = [model[w] for w in nurse]\n",
        "target2 = [model[w] for w in engineer]\n",
        "attribute2 = [model[w] for w in male]\n",
        "attribute1 = [model[w] for w in female]\n",
        "print(len(target1), len(target2))"
      ]
    },
    {
      "cell_type": "code",
      "execution_count": null,
      "metadata": {
        "id": "ctcP3YgUT5pK"
      },
      "outputs": [],
      "source": [
        "def mean_sim(word, attributes):\n",
        "    cos = [cosine_similarity([word], [a]) for a in attributes]\n",
        "    cos2 = [x[0][0] for x in cos]\n",
        "    return (np.mean(cos2))\n",
        "\n",
        "def testWord(w, A, B):\n",
        "    # this gives us the s(w, A, B) from the original paper\n",
        "    print(\"females: %f   males %f\" % (mean_sim(w, A) , mean_sim(w, B)))\n",
        "    return mean_sim(w, A) - mean_sim(w, B)"
      ]
    },
    {
      "cell_type": "code",
      "execution_count": null,
      "metadata": {
        "id": "JCDZaZ6JT5pK",
        "outputId": "ce64f81e-22ff-41a0-9090-0b1b2c9bf6d9"
      },
      "outputs": [
        {
          "name": "stdout",
          "output_type": "stream",
          "text": [
            "females: 0.327193   males 0.210416\n"
          ]
        },
        {
          "data": {
            "text/plain": [
              "0.11677688"
            ]
          },
          "execution_count": 83,
          "metadata": {},
          "output_type": "execute_result"
        }
      ],
      "source": [
        "testWord(target1[3], attribute1, attribute2)"
      ]
    },
    {
      "cell_type": "code",
      "execution_count": null,
      "metadata": {
        "id": "Ram0HZp-T5pK",
        "outputId": "9904e6a0-c151-40d8-a3bb-736de79c0083"
      },
      "outputs": [
        {
          "name": "stdout",
          "output_type": "stream",
          "text": [
            "females: 0.345356   males 0.307276\n",
            "females: 0.322488   males 0.264841\n",
            "females: 0.162548   males 0.028264\n",
            "females: 0.327193   males 0.210416\n",
            "females: 0.232252   males 0.168572\n",
            "females: 0.143824   males 0.091845\n",
            "females: 0.263055   males 0.214436\n",
            "females: 0.210137   males 0.226772\n",
            "females: 0.070028   males 0.010425\n",
            "females: 0.101862   males -0.017706\n",
            "females: 0.051313   males 0.008487\n",
            "females: 0.366775   males 0.326970\n",
            "females: 0.166306   males 0.292008\n",
            "females: 0.126159   males 0.150269\n",
            "females: 0.058905   males 0.052183\n",
            "females: 0.092080   males 0.078372\n",
            "females: 0.074782   males 0.106126\n",
            "females: 0.086201   males 0.113220\n",
            "females: -0.078201   males -0.059521\n",
            "females: -0.053625   males -0.014253\n",
            "females: 0.138887   males 0.162285\n",
            "females: 0.058699   males 0.042382\n",
            "females: 0.065541   males 0.087401\n",
            "females: 0.051500   males 0.096820\n",
            "females: 0.054945   males 0.121904\n",
            "females: 0.194768   males 0.206341\n",
            "females: 0.130289   males 0.141997\n",
            "females: 0.138995   males 0.130078\n",
            "females: 0.022900   males 0.040478\n",
            "females: 0.137138   males 0.143012\n",
            "females: 0.043760   males 0.080729\n",
            "females: -0.004219   males 0.027401\n",
            "females: 0.178130   males 0.211383\n",
            "females: 0.345356   males 0.307276\n",
            "females: 0.322488   males 0.264841\n",
            "females: 0.162548   males 0.028264\n",
            "females: 0.327193   males 0.210416\n",
            "females: 0.232252   males 0.168572\n",
            "females: 0.143824   males 0.091845\n",
            "females: 0.263055   males 0.214436\n",
            "females: 0.210137   males 0.226772\n",
            "females: 0.070028   males 0.010425\n",
            "females: 0.101862   males -0.017706\n",
            "females: 0.051313   males 0.008487\n",
            "females: 0.366775   males 0.326970\n",
            "females: 0.166306   males 0.292008\n",
            "females: 0.126159   males 0.150269\n",
            "females: 0.058905   males 0.052183\n",
            "females: 0.092080   males 0.078372\n",
            "females: 0.074782   males 0.106126\n",
            "females: 0.086201   males 0.113220\n",
            "females: -0.078201   males -0.059521\n",
            "females: -0.053625   males -0.014253\n",
            "females: 0.138887   males 0.162285\n",
            "females: 0.058699   males 0.042382\n",
            "females: 0.065541   males 0.087401\n",
            "females: 0.051500   males 0.096820\n",
            "females: 0.054945   males 0.121904\n",
            "females: 0.194768   males 0.206341\n",
            "females: 0.130289   males 0.141997\n",
            "females: 0.138995   males 0.130078\n",
            "females: 0.022900   males 0.040478\n",
            "females: 0.137138   males 0.143012\n",
            "females: 0.043760   males 0.080729\n",
            "females: -0.004219   males 0.027401\n",
            "females: 0.178130   males 0.211383\n"
          ]
        },
        {
          "data": {
            "text/plain": [
              "1.6188601"
            ]
          },
          "execution_count": 84,
          "metadata": {},
          "output_type": "execute_result"
        }
      ],
      "source": [
        "cohenD(target1, target2, attribute1, attribute2)"
      ]
    },
    {
      "cell_type": "code",
      "execution_count": null,
      "metadata": {
        "id": "uLWT4hfdT5pK",
        "outputId": "02c52525-8e89-48ae-8767-81591696c30a"
      },
      "outputs": [
        {
          "data": {
            "text/plain": [
              "'patients'"
            ]
          },
          "execution_count": 51,
          "metadata": {},
          "output_type": "execute_result"
        }
      ],
      "source": [
        "nurse[4]"
      ]
    },
    {
      "cell_type": "code",
      "execution_count": null,
      "metadata": {
        "id": "0EogdmpYT5pK"
      },
      "outputs": [],
      "source": []
    }
  ],
  "metadata": {
    "kernelspec": {
      "display_name": "Python 3",
      "language": "python",
      "name": "python3"
    },
    "language_info": {
      "codemirror_mode": {
        "name": "ipython",
        "version": 3
      },
      "file_extension": ".py",
      "mimetype": "text/x-python",
      "name": "python",
      "nbconvert_exporter": "python",
      "pygments_lexer": "ipython3",
      "version": "3.6.9"
    },
    "colab": {
      "provenance": [],
      "include_colab_link": true
    }
  },
  "nbformat": 4,
  "nbformat_minor": 0
}